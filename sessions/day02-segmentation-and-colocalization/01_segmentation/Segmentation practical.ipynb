{
 "cells": [
  {
   "cell_type": "markdown",
   "metadata": {},
   "source": [
    "# Segmentation Practical\n",
    "\n",
    "by Dominic Waithe (2019)  \n",
    "\n",
    "Instructions:  \n",
    "Work through the notebook cell-by-cell. Where you see TODO, this means you need to do something. Optional TODO means you should do it if you are finding things too easy and have enough time.\n",
    "Many of the exercises below utilise the Skimage Python library, if in doubt, google the function names, to find out additional description.\n",
    "Some of the cells also involve plotting. If you are having trouble understanding the plotting with Matplotlib, then I recommend the following text: https://jakevdp.github.io/PythonDataScienceHandbook/04.00-introduction-to-matplotlib.html\n"
   ]
  },
  {
   "cell_type": "code",
   "execution_count": null,
   "metadata": {},
   "outputs": [],
   "source": [
    "#Library imports for this notebook. Please remember to run before any other cells.\n",
    "%matplotlib inline\n",
    "from scipy import ndimage as ndi\n",
    "import matplotlib.pyplot as plt\n",
    "from skimage import data, img_as_float,color, img_as_ubyte\n",
    "from skimage import color, io\n",
    "from skimage.feature import peak_local_max, canny\n",
    "from skimage.transform import hough_circle,hough_circle_peaks,hough_line, hough_line_peaks\n",
    "from skimage.draw import circle_perimeter\n",
    "from skimage.filters import try_all_threshold, threshold_otsu\n",
    "from skimage.morphology import watershed, skeletonize\n",
    "from skimage.segmentation import chan_vese, felzenszwalb, slic, quickshift, watershed,mark_boundaries\n",
    "from matplotlib import cm\n",
    "import numpy as np\n"
   ]
  },
  {
   "cell_type": "markdown",
   "metadata": {},
   "source": [
    "### Simple global thresholding methods\n",
    "First we import an image. This is a multi-channel image with each channel representing discrete image data.\n",
    "Here we preview a number of skimage thresholding strategies.\n"
   ]
  },
  {
   "cell_type": "code",
   "execution_count": null,
   "metadata": {},
   "outputs": [],
   "source": [
    "#Import image.\n",
    "img = io.imread('images/MAX_BRCA1 C20 SCBT 50 and TBK1 A6 SCBT 100 ivt 4.tif')\n",
    "#Convert image to float.\n",
    "img = img_as_float(img)\n",
    "#Here we index  individual channels for convenience.\n",
    "img_ch0 = img[:,:,0]\n",
    "img_ch1 = img[:,:,1]\n",
    "img_ch2 = img[:,:,2]\n",
    "\n",
    "#You saw this function yesterday. \n",
    "fig, ax = try_all_threshold(img_ch0, figsize=(8, 16), verbose=False)\n",
    "plt.show()\n",
    "#TODO, try thresholding the other channels. Does what you see make sense? \n",
    "#Would you threshold CH1 and CH2? which method would you recommend for each."
   ]
  },
  {
   "cell_type": "markdown",
   "metadata": {},
   "source": [
    "### Otsu segmentation and histogram visualisation\n",
    "Here we are going to apply Otsu segmentation to one of our images and visualise the histogram."
   ]
  },
  {
   "cell_type": "code",
   "execution_count": null,
   "metadata": {},
   "outputs": [],
   "source": [
    "#Calculate threshold for the first channel of our image.\n",
    "thresh = threshold_otsu(img_ch0)\n",
    "#Apply the threshold to the image and generate binary image.\n",
    "binary = img_ch0 > thresh\n",
    "print('Our calculated threshold value.',thresh)\n",
    "#Plotting\n",
    "fig, ax = plt.subplots(1,3, figsize=(14, 4))\n",
    "\n",
    "\n",
    "ax[0].imshow(img_ch0, cmap=\"gray\")\n",
    "ax[0].set_axis_off()\n",
    "ax[0].set_title(\"Original Image\", fontsize=12)\n",
    "ax[1].hist(img_ch0.reshape(-1),bins=256)#Generate histogram.\n",
    "ax[1].set_yscale(\"log\")\n",
    "ax[1].axvline(thresh, color='r')\n",
    "ax[1].set_title(\"Intensity histogram\", fontsize=12)\n",
    "ax[1].set_ylabel(\"Intensity counts\", fontsize=12)\n",
    "ax[1].set_xlabel(\"Intensity\", fontsize=12)\n",
    "ax[2].imshow(binary, cmap=\"gray\")\n",
    "ax[2].set_title(\"Intensity histogram\", fontsize=12)\n",
    "\n",
    "\n",
    "#The line represents the otsu calculated threshold."
   ]
  },
  {
   "cell_type": "code",
   "execution_count": null,
   "metadata": {},
   "outputs": [],
   "source": [
    "#TODO: From your knowledge of image acquisition, what do you notice about the distribution in the histogram which suggests the image is not optimum? \n",
    "#Ask one of the demonstrators to confirm your findings."
   ]
  },
  {
   "cell_type": "markdown",
   "metadata": {},
   "source": [
    "### Watershed algorithm\n",
    "Here we are applying watershed to our image, using the distance transform representation.\n",
    "Remember from the lecture that this helps us separate objects by size and intensity."
   ]
  },
  {
   "cell_type": "code",
   "execution_count": null,
   "metadata": {},
   "outputs": [],
   "source": [
    "# Now we want to separate the cells in the image.\n",
    "# Apply a distance transform to the image.\n",
    "distance = ndi.distance_transform_edt(binary)#We visualise this below.\n",
    "\n",
    "#There are different ways of setting your seed points for the watershed. This is one way:\n",
    "local_maxi = np.copy(distance) #We make a copy of our image so as not to destroy the original.\n",
    "local_maxi = local_maxi>(np.max(local_maxi)*0.7) #We take a threshold based on the size of the objects. The top 30% remains as a seed for each region.\n",
    "t\n",
    "\n",
    "coordinates = np.where(local_maxi)\n",
    "markers = ndi.label(local_maxi)[0]\n",
    "labels = watershed(-distance, markers, mask=binary)#Now we run the watershed algorithm and connect the cells to each seed point.\n",
    "\n",
    "fig, ax = plt.subplots(1,3, figsize=(14, 4))\n",
    "ax[0].imshow(distance)\n",
    "ax[0].set_title(\"Distance transform\", fontsize=12)\n",
    "ax[1].plot(coordinates[1],coordinates[0],'ro')\n",
    "ax[1].set_title(\"Seed points and binary mask\", fontsize=12)\n",
    "ax[1].imshow(binary)\n",
    "ax[2].imshow(labels,cmap=plt.cm.nipy_spectral)#The different colours represent the different cells.\n",
    "ax[2].set_title(\"Labelled cells\", fontsize=12)"
   ]
  },
  {
   "cell_type": "markdown",
   "metadata": {},
   "source": [
    "### Maxima finding\n",
    "In this cell we focus on the second channel, and retrieve the foci (I.e. punctuate fluorescence)."
   ]
  },
  {
   "cell_type": "code",
   "execution_count": null,
   "metadata": {},
   "outputs": [],
   "source": [
    "\n",
    "image_max = ndi.maximum_filter(img_ch1, size=5, mode='constant')\n",
    "# Comparison between image_max and img_ch1 to find the coordinates of local maxima\n",
    "coordinates_raw = peak_local_max(img_ch1, min_distance=5)\n",
    "THR = np.mean(img_ch1)+(np.std(img_ch1)*3.)\n",
    "coordinates = coordinates_raw[img_ch1[coordinates_raw[:,0],coordinates_raw[:,1]]>THR,:]\n",
    "\n",
    "fig, ax = plt.subplots(1,3, figsize=(16, 8))\n",
    "ax[0].imshow(img_ch1)\n",
    "ax[0].set_title(\"Channel 1 raw intensities\", fontsize=12)\n",
    "ax[1].imshow(img_ch1)\n",
    "ax[1].plot(coordinates_raw[:, 1], coordinates_raw[:, 0], 'r.')\n",
    "ax[1].set_title(\"Local Maxima\", fontsize=12)\n",
    "ax[2].imshow(img_ch1)\n",
    "ax[2].plot(coordinates[:, 1], coordinates[:, 0], 'r.')\n",
    "ax[2].set_title(\"Pruned Maxima\", fontsize=12)"
   ]
  },
  {
   "cell_type": "code",
   "execution_count": null,
   "metadata": {},
   "outputs": [],
   "source": [
    "#TODO: This will take sometime and is the biggest exercise in this practical.\n",
    "#We want to to measure the number of foci in each cell, and also plot the intensities of the nuclear stain and that of the foci.  \n",
    "# 1) You will need to identify each individual cell in your segmentation.  Use the output of the watershed algorithm (labels) as a starting point.\n",
    "# A good way to do this is with the region props algorithm:\n",
    "# Find it here https://scikit-image.org/docs/dev/api/skimage.measure.html#skimage.measure.regionprops\n",
    "# 2) Measure in img_ch0 the intensity of each cell.\n",
    "# 3) Measure in img_ch1 the intensity at each of the points found using the find maxima function in each cell.\n",
    "#TIP: Find which maxima coordinates have a certain pixel value when compared to labelled cell region image (labels).\n",
    "# 4) Plot the information as a scatter plot, comparing the average intensity of the maxima for each cell CH1 versus the average DAPI signal CH0 for each cell.\n",
    "# https://matplotlib.org/3.1.1/api/_as_gen/matplotlib.pyplot.scatter.html\n"
   ]
  },
  {
   "cell_type": "code",
   "execution_count": null,
   "metadata": {},
   "outputs": [],
   "source": [
    "#OPTIONAL TODO\n",
    "#The above is a very basic maxima finding algorithm. A more advanced variant is the Fiji/ImageJ maxima.\n",
    "#The following is a Python implementation of the same algorithm.\n",
    "#https://github.com/dwaithe/generalMacros/blob/master/maximaFinding/find%20Maxima.ipynb\n",
    "#Try this algorithm on the same image file and compare the results."
   ]
  },
  {
   "cell_type": "markdown",
   "metadata": {},
   "source": [
    "## Other Algorithms"
   ]
  },
  {
   "cell_type": "markdown",
   "metadata": {},
   "source": [
    "### Chan Vese Level set algorithm\n",
    "The below segmentation example is a challenging one. "
   ]
  },
  {
   "cell_type": "code",
   "execution_count": null,
   "metadata": {},
   "outputs": [],
   "source": [
    "img = io.imread('images/Dot_Blot.jpg')\n",
    "image = img_as_float(img)\n",
    "\n",
    "\n",
    "# Feel free to play around with the parameters to see how they impact the result\n",
    "cv = chan_vese(image, mu=0.06, lambda1=1.3, lambda2=1.5, tol=1e-3, max_iter=65, dt=0.6, init_level_set=\"checkerboard\", extended_output=True)\n",
    "\n",
    "fig, axes = plt.subplots(2, 2, figsize=(8, 8))\n",
    "ax = axes.flatten()\n",
    "\n",
    "ax[0].imshow(image, cmap=\"gray\")\n",
    "ax[0].set_axis_off()\n",
    "ax[0].set_title(\"Original Image\", fontsize=12)\n",
    "\n",
    "ax[1].imshow(cv[0], cmap=\"gray\")\n",
    "ax[1].set_axis_off()\n",
    "title = \"Chan-Vese segmentation - {} iterations\".format(len(cv[2]))\n",
    "ax[1].set_title(title, fontsize=12)\n",
    "\n",
    "ax[2].imshow(cv[1], cmap=\"gray\")\n",
    "ax[2].set_axis_off()\n",
    "ax[2].set_title(\"Final Level Set\", fontsize=12)\n",
    "\n",
    "ax[3].plot(cv[2])\n",
    "ax[3].set_title(\"Evolution of energy over iterations\", fontsize=12)\n",
    "\n",
    "fig.tight_layout()\n",
    "plt.show()"
   ]
  },
  {
   "cell_type": "code",
   "execution_count": null,
   "metadata": {},
   "outputs": [],
   "source": [
    "#Optional TODO:\n",
    "#See if you can beat my performance with some better parameters."
   ]
  },
  {
   "cell_type": "markdown",
   "metadata": {},
   "source": [
    "### Superpixels\n",
    "Here we apply SLIC to segment our cellular image. Superpixels attempt to group pixels in an image spatially and through colour (in this case intensity). Through using this technique it is possible to do a segmentation."
   ]
  },
  {
   "cell_type": "code",
   "execution_count": null,
   "metadata": {},
   "outputs": [],
   "source": [
    "image = io.imread('images/HeLa_SNAP_ATRX16_BrdU_neg_UVC_30min_ATRX_green_yH2AX_red_01_03_R3D-1.tif')\n",
    "img = img_as_float(image)\n",
    "\n",
    "\n",
    "segments_slic = slic(img, n_segments=25, compactness=0.005, sigma=3) #Search online for help with the parameters.\n",
    "mb = mark_boundaries(image*100, segments_slic) #The *100 makes the image easier to see in the figure.\n",
    "\n",
    "fig, axes = plt.subplots(1, 2, figsize=(8, 8))\n",
    "ax = axes.flatten()\n",
    "\n",
    "\n",
    "\n",
    "ax[0].imshow(mb)\n",
    "ax[0].set_axis_off()\n",
    "ax[0].set_title(\"Image with boundaries\", fontsize=12)\n",
    "\n",
    "ax[1].imshow(segments_slic, cmap=\"gray\")\n",
    "ax[1].set_axis_off()\n",
    "title = \"Slic segments\"\n",
    "ax[1].set_title(title, fontsize=12)\n",
    "\n",
    "\n"
   ]
  },
  {
   "cell_type": "code",
   "execution_count": null,
   "metadata": {},
   "outputs": [],
   "source": [
    "#Optional TODO: Try and do the same for 'MAX_BRCA1 C20 SCBT 50 and TBK1 A6 SCBT 100 ivt 4.tif' CH0. \n",
    "#Alter the parameters to optimise the performance."
   ]
  },
  {
   "cell_type": "markdown",
   "metadata": {},
   "source": [
    "### The Hough Circle Transform\n",
    "Using the Hough Circle transform to segment Giant Plasma Membrane Vesicles (GPMVs) "
   ]
  },
  {
   "cell_type": "code",
   "execution_count": null,
   "metadata": {},
   "outputs": [],
   "source": [
    "\n",
    "\n",
    "# Load picture, convert to grayscale and detect edges\n",
    "img = io.imread('images/MAX_2phase.tif')\n",
    "edges = img_as_float(img)\n",
    "thresh = threshold_otsu(edges)\n",
    "binary = edges > thresh\n",
    "\n",
    "# Perform a Hough Transform\n",
    "# The accuracy corresponds to the bin size of a major axis.\n",
    "# The value is chosen in order to get a single high accumulator.\n",
    "# The threshold eliminates low accumulators\n",
    "hough_radii = np.arange(15, 100, 1)\n",
    "hough_res = hough_circle(binary, hough_radii)\n",
    "\n",
    "# Select the most prominent circles\n",
    "accums, cx, cy, radii = hough_circle_peaks(hough_res, hough_radii, total_num_peaks=10)\n",
    "\n",
    "\n",
    "# Draw them\n",
    "fig, ax = plt.subplots(ncols=2, nrows=1, figsize=(18, 24))\n",
    "image = color.gray2rgb(edges)\n",
    "ax[0].imshow(image, cmap=plt.cm.gray)\n",
    "for center_y, center_x, radius in zip(cy, cx, radii):\n",
    "    circy, circx = circle_perimeter(center_y, center_x, radius, shape=image.shape)\n",
    "    ax[1].plot(circx, circy,'o')\n",
    "ax[1].imshow(image,)\n",
    "plt.show()"
   ]
  },
  {
   "cell_type": "code",
   "execution_count": null,
   "metadata": {},
   "outputs": [],
   "source": [
    "#Advanced Optional TODO:\n",
    "#In the above example the hough circle algorithm finds multiple circles for the same GPMV. \n",
    "#Can you devise a mechansim to only provide one circle for each GPMV.\n",
    "#Can you devise a method to plot the intensity around the circle."
   ]
  },
  {
   "cell_type": "code",
   "execution_count": null,
   "metadata": {},
   "outputs": [],
   "source": [
    "from skimage.transform import hough_line, hough_line_peaks\n",
    "from skimage.feature import canny\n",
    "from skimage.morphology import binary_dilation, binary_erosion\n",
    "from skimage import data\n",
    "import numpy as np\n",
    "import matplotlib.pyplot as plt\n",
    "from matplotlib import cm\n",
    "#Image Citation: Payne AC, Andregg M, Kemmish K, Hamalainen M, Bowell C, et al. (2013) \n",
    "#Molecular Threading: Mechanical Extraction, Stretching and Placement of DNA Molecules \n",
    "#from a Liquid-Air Interface. PLoS ONE 8(7): e69058. doi:10.1371/journal.pone.0069058\n",
    "\n",
    "\n",
    "# Import image.\n",
    "image = io.imread('images/DNA_stretched.tif')\n",
    "edges = img_as_float(image)\n",
    "thresh = threshold_otsu(edges)\n",
    "binary = edges > thresh\n",
    "\n",
    "\n",
    "# Classic straight-line Hough transform\n",
    "# Set a precision of 0.5 degree.\n",
    "tested_angles = np.linspace(-np.pi / 2, np.pi / 2, 720)\n",
    "h, theta, d = hough_line(binary, theta=tested_angles)\n",
    "\n",
    "# Generating figure 1\n",
    "fig, axes = plt.subplots(2, 2, figsize=(15, 15))\n",
    "ax = axes.ravel()\n",
    "ax[0].imshow(image, cmap=cm.gray)\n",
    "ax[0].set_title('Input image')\n",
    "ax[1].imshow(binary, cmap=cm.gray)\n",
    "ax[1].set_title('Binary image')\n",
    "ax[1].set_axis_off()\n",
    "\n",
    "ax[2].imshow(np.log(1 + h), extent=[np.rad2deg(theta[-1]), np.rad2deg(theta[0]), d[-1], d[0]], cmap=cm.gray, aspect=1/1.5)\n",
    "ax[2].set_title('Hough transform')\n",
    "ax[2].set_xlabel('Angles (degrees)')\n",
    "ax[2].set_ylabel('Distance (pixels)')\n",
    "ax[2].axis('image')\n",
    "ax[3].imshow(binary, cmap=cm.gray)\n",
    "origin = np.array((0, image.shape[1]))\n",
    "for _, angle, dist in zip(*hough_line_peaks(h, theta, d)):\n",
    "    y0, y1 = (dist - origin * np.cos(angle)) / np.sin(angle)\n",
    "    \n",
    "    ax[3].plot((origin),(y0,y1), '-g')\n",
    "  \n",
    "ax[3].set_xlim(origin)\n",
    "ax[3].set_ylim((binary.shape[0], 0))\n",
    "ax[3].set_axis_off()\n",
    "ax[3].set_title('Detected lines')\n",
    "\n",
    "plt.tight_layout()\n",
    "plt.show()"
   ]
  },
  {
   "cell_type": "code",
   "execution_count": null,
   "metadata": {},
   "outputs": [],
   "source": [
    "#Advanced Optional TODO:\n",
    "#Can you plot the intensities of a few of the DNA molecules along the lines.\n",
    "#In the above example some of the hough lines span across the image.\n",
    "#How could you refine these lines to only draw the vertical ones."
   ]
  }
 ],
 "metadata": {
  "kernelspec": {
   "display_name": "Python 3",
   "language": "python",
   "name": "python3"
  },
  "language_info": {
   "codemirror_mode": {
    "name": "ipython",
    "version": 3
   },
   "file_extension": ".py",
   "mimetype": "text/x-python",
   "name": "python",
   "nbconvert_exporter": "python",
   "pygments_lexer": "ipython3",
   "version": "3.7.4"
  }
 },
 "nbformat": 4,
 "nbformat_minor": 4
}
