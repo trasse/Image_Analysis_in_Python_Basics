{
 "cells": [
  {
   "cell_type": "markdown",
   "metadata": {},
   "source": [
    "# Using Jython to script in FIJI\n",
    "## Goal: Learn basic Jython commands to turn a macro into Jython code\n",
    "\n",
    "### Project goal: Count the number of _cells_ in the sample image, and find their area.  \n",
    "\n",
    "\n",
    "Using the FIJI macro recorder, we can generate a pipeline that we can use to do our analysis.\n",
    "\n",
    "What steps would we need?\n",
    "1. Convert rgb image to 8-bit\n",
    "2. Set measurements\n",
    "3. Analyze Particles\n",
    "4. Save results"
   ]
  },
  {
   "cell_type": "raw",
   "metadata": {},
   "source": [
    "# Here is some helpful starting code\n",
    "\n",
    "\n",
    "########\n",
    "from ij import IJ #load the FIJI modules\n",
    "from ij.io import FileSaver\n",
    "from ij.io import OpenDialog\n",
    "from ij.measure import ResultsTable\n",
    "\n",
    "IJ.run(\"Clear Results\");  #clear results table\n",
    "\n",
    "od = OpenDialog(\"Choose a file\", None)  #Open a choose file dialog box\n",
    "filename = od.getFileName()             #get the filename\n",
    "directory =  od.getDirectory()          #get the directory\n",
    "path = od.getPath()                     #get the path\n",
    "\n",
    "print filename\n",
    "print directory\n",
    "print path\n",
    "\n",
    "imp = IJ.openImage(path)\n",
    "imp.show()\n",
    "\n",
    "IJ.run(\"8-bit\");\n",
    "#IJ.run(\"Invert\");  #use this line if we need to invert the image\n",
    "## set measurements and analyze particles?\n",
    "\n",
    "\n",
    "#save the results table as a CSV\n",
    "#https://www.ini.uzh.ch/~acardona/fiji-tutorial/#s2\n",
    "\n",
    "save_string = directory + 'Results_Todd_Dec9.csv'     #combine the directory the image file was in and a new filename\n",
    "IJ.saveAs(\"Results\", save_string);  #save the results table to the filename set in 'save_string'\n",
    "\n"
   ]
  }
 ],
 "metadata": {
  "kernelspec": {
   "display_name": "Python 3",
   "language": "python",
   "name": "python3"
  },
  "language_info": {
   "codemirror_mode": {
    "name": "ipython",
    "version": 3
   },
   "file_extension": ".py",
   "mimetype": "text/x-python",
   "name": "python",
   "nbconvert_exporter": "python",
   "pygments_lexer": "ipython3",
   "version": "3.7.3"
  }
 },
 "nbformat": 4,
 "nbformat_minor": 2
}
