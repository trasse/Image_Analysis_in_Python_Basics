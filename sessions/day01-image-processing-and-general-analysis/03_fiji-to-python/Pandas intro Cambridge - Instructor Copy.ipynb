{
 "cells": [
  {
   "cell_type": "markdown",
   "metadata": {},
   "source": [
    "# Outline of data analysis with Pandas:\n",
    "***\n",
    "\n",
    "\n",
    "1. Importing data (from FIJI results table or any other source)\n",
    "*** \n",
    "2. Previewing Data\n",
    "    * Head and tail\n",
    "    * Data validation\n",
    "    * Statistics of data set\n",
    "        * *Min, max, standard deviation, etc.*\n",
    "***    \n",
    "3. Working with Data\n",
    "    * loc vs iloc\n",
    "    * Selecting columns\n",
    "        * *Statistics on column*\n",
    "    * Adding data to data frame\n",
    "    * Performing operations on a column\n",
    "***\n",
    "4. Quick plotting for data preview\n",
    "***"
   ]
  },
  {
   "cell_type": "markdown",
   "metadata": {},
   "source": [
    "### Importing data\n",
    "Python has built in functions for importing csv files, which we can use here to read the data in as lists\n",
    "***"
   ]
  },
  {
   "cell_type": "code",
   "execution_count": null,
   "metadata": {},
   "outputs": [],
   "source": [
    "# Read the csv file the using Python built in functions\n",
    "import csv\n",
    "areas_list = []  #initialize an empty list to put the row numbers in\n",
    "with open('Results_random_circles_CoronaTime.csv') as csvfile:\n",
    "    readCSV = csv.reader(csvfile, delimiter=',')\n",
    "    for row in readCSV:\n",
    "        #print(row)\n",
    "        #print(row[0])\n",
    "        #print(row[0],row[1],row[2],)\n",
    "        areas_list.append(row[1])"
   ]
  },
  {
   "cell_type": "code",
   "execution_count": null,
   "metadata": {},
   "outputs": [],
   "source": [
    "#look at just the areas.  How do we slice to get rid of the first entry?\n",
    "areas_list[1:]\n"
   ]
  },
  {
   "cell_type": "code",
   "execution_count": null,
   "metadata": {},
   "outputs": [],
   "source": [
    "#The list of areas is a list of strings, we need to change it to a list of floating point numbers\n",
    "areas = list(map(float, areas_list[1:]))\n",
    "\n",
    "#Calculate the max of just the areas \n",
    "max(areas)\n"
   ]
  },
  {
   "cell_type": "markdown",
   "metadata": {},
   "source": [
    "#### Excerise\n",
    "\n",
    "Calculate the min of the areas\n",
    "\n",
    "---"
   ]
  },
  {
   "cell_type": "code",
   "execution_count": null,
   "metadata": {},
   "outputs": [],
   "source": [
    "min(areas)"
   ]
  },
  {
   "cell_type": "markdown",
   "metadata": {},
   "source": [
    "#### Use the statistics package to determine the standard deviation of the areas"
   ]
  },
  {
   "cell_type": "code",
   "execution_count": null,
   "metadata": {},
   "outputs": [],
   "source": [
    "from statistics import stdev\n",
    "stdev(areas)"
   ]
  },
  {
   "cell_type": "markdown",
   "metadata": {},
   "source": [
    "### We can easily create a dataframe to hold the imported csv data from a file using Pandas and numpy instead of reading in using csv read, just a shortcut to get a dataframe\n",
    "***"
   ]
  },
  {
   "cell_type": "code",
   "execution_count": null,
   "metadata": {},
   "outputs": [],
   "source": [
    "#Input csv file as dataframe\n",
    "import pandas as pd\n",
    "import numpy as np\n",
    "\n",
    "#Read in data as data frame\n",
    "df_old= pd.read_csv('Results_random_circles_CoronaTime.csv',skiprows=range(21,101))  #range to skip\n",
    "df_old.head()  #head shows just the first five entries of the dataframe"
   ]
  },
  {
   "cell_type": "markdown",
   "metadata": {},
   "source": [
    "### When we import the dataframe, it generates an index to the rows, so we can select them. \n",
    " What does setting the *index_col=0* flag do?  What if we change it to other columns?\n",
    " ***"
   ]
  },
  {
   "cell_type": "code",
   "execution_count": null,
   "metadata": {},
   "outputs": [],
   "source": [
    "df = pd.read_csv('Results_random_circles_CoronaTime.csv', skiprows=range(21,101), index_col = 0)\n",
    "#Whats the difference between the two indicies?\n",
    "df.head()"
   ]
  },
  {
   "cell_type": "markdown",
   "metadata": {},
   "source": [
    "## We can find out information about the dataframe as a whole using pandas functions:\n",
    "***"
   ]
  },
  {
   "cell_type": "code",
   "execution_count": null,
   "metadata": {},
   "outputs": [],
   "source": [
    "df.info()  #find out information about the whole dataset, (i.e. how many objects there are in each column)"
   ]
  },
  {
   "cell_type": "code",
   "execution_count": null,
   "metadata": {},
   "outputs": [],
   "source": [
    "df.shape  #find the number of rows and columns"
   ]
  },
  {
   "cell_type": "markdown",
   "metadata": {},
   "source": [
    "### Excercises, find the min, max and standard deviation of the areas of the dataframe columns"
   ]
  },
  {
   "cell_type": "code",
   "execution_count": null,
   "metadata": {},
   "outputs": [],
   "source": [
    "#Find the min, max, mean area of the dataset\n",
    "df.min()\n"
   ]
  },
  {
   "cell_type": "code",
   "execution_count": null,
   "metadata": {},
   "outputs": [],
   "source": [
    "#Find the max\n",
    "df.max()\n"
   ]
  },
  {
   "cell_type": "code",
   "execution_count": null,
   "metadata": {},
   "outputs": [],
   "source": [
    "#Find the mean\n",
    "df.mean()"
   ]
  },
  {
   "cell_type": "code",
   "execution_count": null,
   "metadata": {},
   "outputs": [],
   "source": [
    "#Find the standard deviation of the dataset\n",
    "df.std()"
   ]
  },
  {
   "cell_type": "code",
   "execution_count": null,
   "metadata": {},
   "outputs": [],
   "source": [
    "df.describe()  #find out all the stats in one go "
   ]
  },
  {
   "cell_type": "markdown",
   "metadata": {},
   "source": [
    "### Showing a single row or single value: loc vs iloc\n",
    "***\n"
   ]
  },
  {
   "cell_type": "code",
   "execution_count": null,
   "metadata": {},
   "outputs": [],
   "source": [
    "df.head()"
   ]
  },
  {
   "cell_type": "code",
   "execution_count": null,
   "metadata": {},
   "outputs": [],
   "source": [
    "df.loc[1,:]  #loc looks for a particular label on an index"
   ]
  },
  {
   "cell_type": "code",
   "execution_count": null,
   "metadata": {},
   "outputs": [],
   "source": [
    "df.iloc[1,:] #iloc is integer loc, looks at the specific POSITION of the index."
   ]
  },
  {
   "cell_type": "markdown",
   "metadata": {},
   "source": [
    "## Selecting a single column using indexing\n",
    "* Single and double square bracket indexing\n",
    "***"
   ]
  },
  {
   "cell_type": "code",
   "execution_count": null,
   "metadata": {},
   "outputs": [],
   "source": [
    "df['Area'].head()  #view the first few rows of area, comes out as a series"
   ]
  },
  {
   "cell_type": "code",
   "execution_count": null,
   "metadata": {},
   "outputs": [],
   "source": [
    "df[['Area']].head()"
   ]
  },
  {
   "cell_type": "code",
   "execution_count": null,
   "metadata": {},
   "outputs": [],
   "source": [
    "df.Area.head()"
   ]
  },
  {
   "cell_type": "markdown",
   "metadata": {},
   "source": [
    "## Working with the data, statistics of a column"
   ]
  },
  {
   "cell_type": "code",
   "execution_count": null,
   "metadata": {},
   "outputs": [],
   "source": [
    "df[['Area']].describe()"
   ]
  },
  {
   "cell_type": "code",
   "execution_count": null,
   "metadata": {},
   "outputs": [],
   "source": [
    "df[['Area']]"
   ]
  },
  {
   "cell_type": "code",
   "execution_count": null,
   "metadata": {},
   "outputs": [],
   "source": [
    "df.Area.describe()\n"
   ]
  },
  {
   "cell_type": "code",
   "execution_count": null,
   "metadata": {},
   "outputs": [],
   "source": [
    "df.Area.count()"
   ]
  },
  {
   "cell_type": "code",
   "execution_count": null,
   "metadata": {},
   "outputs": [],
   "source": [
    "df[['Area']].min()  #Finding the column min using a dataframe approach"
   ]
  },
  {
   "cell_type": "code",
   "execution_count": null,
   "metadata": {},
   "outputs": [],
   "source": [
    "df['Area'].min()  #Finding the column min using a series approach"
   ]
  },
  {
   "cell_type": "markdown",
   "metadata": {},
   "source": [
    "### Excercise: Find the min, max and mean of the area column, and set them equal to area_max, area_min and area_mean and make an output print statement saying what they are"
   ]
  },
  {
   "cell_type": "code",
   "execution_count": null,
   "metadata": {},
   "outputs": [],
   "source": [
    "#Find the min, max and mean of the area column, and set them equal to area_max, area_min and area_mean and make an \n",
    "#output print statement saying what they are\n",
    "\n",
    "area_min = df['Area'].min()\n",
    "area_max = df['Area'].max()\n",
    "area_mean = df['Area'].mean()\n",
    "\n",
    "print('The minimum area of a found circle is:', area_min, 'square pixels')\n",
    "print('The maximum area of a found circle is:', area_max, 'square pixels')\n",
    "print('The mean area of a found circle is:', area_mean, 'square pixels')\n"
   ]
  },
  {
   "cell_type": "markdown",
   "metadata": {},
   "source": [
    "### Formatting numbers\n",
    "\n",
    "You can format a number using format spec, https://pyformat.info/  \n",
    "\"{:4.1f}\" gives us at least four characters, with one after the decimal point.  \n",
    "\n"
   ]
  },
  {
   "cell_type": "code",
   "execution_count": null,
   "metadata": {},
   "outputs": [],
   "source": [
    "#Rounding example\n",
    "test_number = 1234.56789  #generate a test number\n"
   ]
  },
  {
   "cell_type": "code",
   "execution_count": null,
   "metadata": {},
   "outputs": [],
   "source": [
    "\"{:1.1f}\".format(test_number)  #if we change the number before the decimal point, we end up with more white space"
   ]
  },
  {
   "cell_type": "code",
   "execution_count": null,
   "metadata": {},
   "outputs": [],
   "source": [
    "# Format the numbers to significant figures\n",
    "print('The minimum area of a found circle is:',\"{:1.2f}\".format(area_min), 'square pixels')\n",
    "print('The maximum area of a found circle is:', \"{:1.2f}\".format(area_max), 'square pixels')\n",
    "print('The mean area of a found circle is:', \"{:1.4f}\".format(area_mean), 'square pixels')"
   ]
  },
  {
   "cell_type": "markdown",
   "metadata": {},
   "source": [
    "## Calculations on a column\n",
    "### Can we find the radii of the shapes?\n",
    "***"
   ]
  },
  {
   "cell_type": "code",
   "execution_count": null,
   "metadata": {},
   "outputs": [],
   "source": [
    "#Can we find the radii of the shapes?\n",
    "#recall area=pi*r^2\n",
    "#r=sqrt(area/pi)\n",
    "\n",
    "# This makes a new list of just the radii\n",
    "\n",
    "radius = np.sqrt(df['Area']/np.pi)\n",
    "radius.head()"
   ]
  },
  {
   "cell_type": "markdown",
   "metadata": {},
   "source": [
    "#### Perform a mathematical operation and add a column to a dataframe"
   ]
  },
  {
   "cell_type": "code",
   "execution_count": null,
   "metadata": {},
   "outputs": [],
   "source": [
    "df['radius_100'] = radius*100\n",
    "df.head()"
   ]
  },
  {
   "cell_type": "markdown",
   "metadata": {},
   "source": [
    "### Removing columns from dataframe\n",
    "***"
   ]
  },
  {
   "cell_type": "code",
   "execution_count": null,
   "metadata": {},
   "outputs": [],
   "source": [
    "#Delete the column for radius?\n",
    "df = df.drop(columns=\"radius_100\")\n",
    "df.head()"
   ]
  },
  {
   "cell_type": "code",
   "execution_count": null,
   "metadata": {},
   "outputs": [],
   "source": [
    "df.drop(columns='radii')"
   ]
  },
  {
   "cell_type": "code",
   "execution_count": null,
   "metadata": {},
   "outputs": [],
   "source": [
    "#Can we add the radius to the data frame directly?\n",
    "df[['Radii']] = np.sqrt(df[['Area']]/np.pi)\n",
    "df.head()"
   ]
  },
  {
   "cell_type": "markdown",
   "metadata": {},
   "source": [
    "### Excercise, compute the diameter and add a diameter column to the data frame\n",
    "***"
   ]
  },
  {
   "cell_type": "code",
   "execution_count": null,
   "metadata": {},
   "outputs": [],
   "source": [
    "#Excercise, compute the diameter and add a diameter column to the data frame\n",
    "df['diameter']  = df['radii']*2\n",
    "df.head()"
   ]
  },
  {
   "cell_type": "markdown",
   "metadata": {},
   "source": [
    "### Excercise, find the mean and standard deviation of the radii.  How do the compare to what we put in to our sample image?\n",
    "***"
   ]
  },
  {
   "cell_type": "code",
   "execution_count": null,
   "metadata": {},
   "outputs": [],
   "source": [
    "#Find the mean and standard deviation of the radii, compare to the inputs\n",
    "mean_radius = df['radii'].mean()\n",
    "print('The mean radius is:', \"{:1.3}\".format(mean_radius), 'pixels')\n"
   ]
  },
  {
   "cell_type": "markdown",
   "metadata": {},
   "source": [
    "### Use the same syntax to find just the standard deviation of the radii\n",
    "***"
   ]
  },
  {
   "cell_type": "code",
   "execution_count": null,
   "metadata": {},
   "outputs": [],
   "source": [
    "radii_std = df['radii'].std()\n",
    "print('The standard deviation of the radii is:', \"{:.4}\".format(radii_std), 'pixels' )\n",
    "radii_std"
   ]
  },
  {
   "cell_type": "code",
   "execution_count": null,
   "metadata": {},
   "outputs": [],
   "source": [
    "print('The standard deviation of the radii is:', round(radii_std, 3), 'pixels')\n",
    "radii_std"
   ]
  },
  {
   "cell_type": "markdown",
   "metadata": {},
   "source": [
    "# Quick plot for seeing what we have\n",
    "***"
   ]
  },
  {
   "cell_type": "code",
   "execution_count": null,
   "metadata": {},
   "outputs": [],
   "source": [
    "%matplotlib inline\n",
    "import matplotlib\n",
    "import matplotlib.pyplot as plt\n"
   ]
  },
  {
   "cell_type": "code",
   "execution_count": null,
   "metadata": {},
   "outputs": [],
   "source": [
    "df.plot()"
   ]
  },
  {
   "cell_type": "code",
   "execution_count": null,
   "metadata": {},
   "outputs": [],
   "source": [
    "df.plot(y='Radii')"
   ]
  },
  {
   "cell_type": "code",
   "execution_count": null,
   "metadata": {},
   "outputs": [],
   "source": [
    "df.Radii.plot(kind='hist', rwidth=0.8)"
   ]
  },
  {
   "cell_type": "code",
   "execution_count": null,
   "metadata": {},
   "outputs": [],
   "source": [
    "df['Radii'].plot(kind='hist', rwidth=0.8)"
   ]
  },
  {
   "cell_type": "code",
   "execution_count": null,
   "metadata": {},
   "outputs": [],
   "source": [
    "df.plot('Radii')"
   ]
  },
  {
   "cell_type": "code",
   "execution_count": null,
   "metadata": {},
   "outputs": [],
   "source": []
  },
  {
   "cell_type": "code",
   "execution_count": null,
   "metadata": {},
   "outputs": [],
   "source": []
  },
  {
   "cell_type": "code",
   "execution_count": null,
   "metadata": {},
   "outputs": [],
   "source": []
  }
 ],
 "metadata": {
  "kernelspec": {
   "display_name": "Python 3",
   "language": "python",
   "name": "python3"
  },
  "language_info": {
   "codemirror_mode": {
    "name": "ipython",
    "version": 3
   },
   "file_extension": ".py",
   "mimetype": "text/x-python",
   "name": "python",
   "nbconvert_exporter": "python",
   "pygments_lexer": "ipython3",
   "version": "3.7.3"
  }
 },
 "nbformat": 4,
 "nbformat_minor": 2
}
