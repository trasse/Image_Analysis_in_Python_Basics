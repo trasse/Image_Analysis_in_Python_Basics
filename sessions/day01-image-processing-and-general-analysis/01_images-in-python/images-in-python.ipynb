{
 "cells": [
  {
   "cell_type": "markdown",
   "metadata": {
    "slideshow": {
     "slide_type": "slide"
    }
   },
   "source": [
    "# Images in Python\n",
    "\n",
    "**Part of the IAFIG-RMS *Python for Bioimage Analysis* Course.**\n",
    "\n",
    "*Dr Chas Nelson*\n",
    "\n",
    "2019-12-09 1000--1200"
   ]
  },
  {
   "cell_type": "markdown",
   "metadata": {
    "slideshow": {
     "slide_type": "slide"
    }
   },
   "source": [
    "## Aim\n",
    "\n",
    "To revise key concepts of digital images and make connections to counterpart concepts in Python.\n",
    "\n",
    "*Note: We will go through a lot of concepts quite quickly in this session. However, you should know all of them and the point of this session is to make links between what you know and introduce you to Python packages and conventions that we will use throughout the course.*"
   ]
  },
  {
   "cell_type": "markdown",
   "metadata": {
    "slideshow": {
     "slide_type": "subslide"
    }
   },
   "source": [
    "## ILOs\n",
    "\n",
    "* Describe how NumPy arrays and dtypes relate to features of digital images\n",
    "* Be able to read/write multidimensional image stacks to/from NumPy arrays and multi-page TIFF files\n",
    "* Be able to subsample your image using NumPy array smart indexing\n",
    "* Extract and plot a histogram of a multidimensional image"
   ]
  },
  {
   "cell_type": "markdown",
   "metadata": {
    "slideshow": {
     "slide_type": "slide"
    }
   },
   "source": [
    "## Digital Images and NumPy Arrays"
   ]
  },
  {
   "cell_type": "markdown",
   "metadata": {
    "slideshow": {
     "slide_type": "slide"
    }
   },
   "source": [
    "### What is a Digital Image?\n",
    "\n",
    "* Digital images are arrays or matrices of pixels (picture elements), i.e. numbers, that represent an object or scene.\n",
    "  * Unless otherwise states we will assume these numbers are integers.\n",
    "* In a grayscale image, each of these numbers is the intensity.\n",
    "* A grayscale image usually represents a narrow band of wavelengths, i.e. a colour or channel.\n",
    "  * Multiple grayscale images together can form a colour image, e.g. RGB.\n",
    "\n",
    "![Digital images are arrays or matrices of pixels (or voxels) - i.e. numbers.](./assets/digitalimage.png)\n",
    "\n",
    "*Courtesy of Dominic Waithe; apple from https://www.wikipiedia.org*\n",
    "\n",
    "* We can navigate a 2D image by using row and column numbers to extract a single pixel value.\n",
    "  * People use two coordinate systems for this: $i$ & $j$ or $x$ and $y$.\n",
    "  * We will use $x$ for rows and $y$ for columns throughout this course. $x=0, y=0$ is the top left corner of the image.\n",
    "  * (We will introduce higher dimensions as and when necessary.)\n",
    "  \n",
    "![Acessing pixels using axes.](./assets/arrays.png)\n",
    "\n",
    "*Adapted from https://github.com/elegant-scipy/elegant-scipy*"
   ]
  },
  {
   "cell_type": "markdown",
   "metadata": {
    "slideshow": {
     "slide_type": "subslide"
    }
   },
   "source": [
    "### What is a NumPy Array?\n",
    "\n",
    "* In Python, NumPy Arrays are arrays or matrices of numbers, as such we can use arrays to represent digital images.\n",
    "* For the representation of a grayscale image, we would use an array with as many rows and columns as the each of these numbers in the grayvalue.\n",
    "* We can navigate an array by using row and column numbers to extract a single element - this is called indexing.\n",
    "  * Don't forget that Python starts counting at $0$ and not at $1$\n",
    "  * As with digital images, we will use $x$ for rows and $y$ for columns throughout this course. $x=0, y=0$ is the top left corner of the array.\n",
    "  * Note: Python and FIJI swap $x$ and $y$, so the data will be transposed."
   ]
  },
  {
   "cell_type": "code",
   "execution_count": null,
   "metadata": {
    "slideshow": {
     "slide_type": "fragment"
    }
   },
   "outputs": [],
   "source": [
    "import numpy as np\n",
    "\n",
    "# Create an array of a Guassian disc with values between 0 and 8\n",
    "# The array has ten rows and fitteen columns\n",
    "# Don't worry too much about this code - it just creates a toy example\n",
    "\n",
    "rows = 10\n",
    "columns = 15\n",
    "x, y = np.meshgrid(np.linspace(-1,1,columns), np.linspace(-1,1,rows))\n",
    "d = np.sqrt(x*x+y*y)\n",
    "sigma = 0.5\n",
    "myGaussianDisc = (8*np.exp(-( (d)**2 / ( 2.0 * sigma**2 ) ) )).astype('uint8')\n",
    "\n",
    "display(myGaussianDisc)"
   ]
  },
  {
   "cell_type": "code",
   "execution_count": null,
   "metadata": {
    "slideshow": {
     "slide_type": "subslide"
    }
   },
   "outputs": [],
   "source": [
    "# Extract the element value at x=5 and y=6\n",
    "x = 5\n",
    "y = 4\n",
    "display(myGaussianDisc[x,y])"
   ]
  },
  {
   "cell_type": "code",
   "execution_count": null,
   "metadata": {
    "slideshow": {
     "slide_type": "subslide"
    }
   },
   "outputs": [],
   "source": [
    "# Import two key plotting/display packages\n",
    "%matplotlib widget\n",
    "import matplotlib.pyplot as plt\n",
    "import seaborn as sns; sns.set()"
   ]
  },
  {
   "cell_type": "code",
   "execution_count": null,
   "metadata": {
    "slideshow": {
     "slide_type": "subslide"
    }
   },
   "outputs": [],
   "source": [
    "f,axes = plt.subplots(1,2)\n",
    "(aMPL, aSNS) = axes.flatten()\n",
    "\n",
    "# Display array as grayscale image\n",
    "# Note that this autoscales (like ImageJ).\n",
    "# This doesn't affect the underlying array\n",
    "aMPL.imshow(myGaussianDisc, cmap=\"gray\")  # We discuss colourmaps (cmaps, LUTs) below\n",
    "aMPL.set_axis_off()  # This turns axes off\n",
    "aMPL.set_title(\"grayscale Image...\")\n",
    "\n",
    "# Display array as heatmap\n",
    "# Note that this also autoscales.\n",
    "sns.heatmap(myGaussianDisc,cmap=\"viridis\",square=True,annot=True,ax=aSNS)\n",
    "aSNS.set_ylim(0,10)  # Make sure we can see the full array\n",
    "aSNS.invert_yaxis()  # Heatmap and imshow flipx, let's undo that\n",
    "aSNS.set_ylabel('X')  # Note that x and y are swapped for display (compared to indexing and FIJI)\n",
    "aSNS.set_xlabel('Y')  # Note that x and y are swapped for display (compared to indexing and FIJI)\n",
    "aSNS.set_title(\"... as Heatmap\")\n",
    "\n",
    "plt.show()"
   ]
  },
  {
   "cell_type": "markdown",
   "metadata": {
    "slideshow": {
     "slide_type": "subslide"
    }
   },
   "source": [
    "### Colour Digital Images\n",
    "\n",
    "* Colour images have multiple 'channels.\n",
    "* In photography and monitors/screens three such channels represent RGB.\n",
    "* In microscopy we can have any number of channels, each representing a different spectral band, i.e. a different fluorphore."
   ]
  },
  {
   "cell_type": "markdown",
   "metadata": {
    "slideshow": {
     "slide_type": "slide"
    }
   },
   "source": [
    "### 'Colour' NumPy Arrays?\n",
    "\n",
    "* NumPy arrays can have more than two dimensions ($x$ and $y$).\n",
    "* If you're doing a lot of computation, it's conventional to represent channels in the first dimension, as this is quicker for access.\n",
    "  * $x$ and $y$ then become the second and third dimensions, respectively.\n",
    "* However, `matplotlib` expects colour to be the third dimension.\n",
    "  * $x$ and $y$ are then set to the first and second dimension, respecitvely.\n",
    "* We will use `matplotlib`'s convention for 2D images with colour channels."
   ]
  },
  {
   "cell_type": "code",
   "execution_count": null,
   "metadata": {},
   "outputs": [],
   "source": [
    "# Create a 3-channel array of offset Gaussian discs with values  between 0 and 8 (exclusive)\n",
    "# The array has ten rows and fifteen columns\n",
    "\n",
    "rows = 10\n",
    "columns = 15\n",
    "x, y = np.meshgrid(np.linspace(-1,1,columns), np.linspace(-1,1,rows))\n",
    "d = np.sqrt(x*x+y*y)\n",
    "sigma = 0.5\n",
    "disc = (8*np.exp(-( (d)**2 / ( 2.0 * sigma**2 ) ))).astype('uint')\n",
    "myRGBArray = np.stack([disc,np.roll(disc,2,axis=0),np.roll(disc,2,axis=1)],axis=2)\n",
    "\n",
    "print(\"Red:\")\n",
    "display(myRGBArray[:,:,1])"
   ]
  },
  {
   "cell_type": "code",
   "execution_count": null,
   "metadata": {
    "slideshow": {
     "slide_type": "subslide"
    }
   },
   "outputs": [],
   "source": [
    "f, axes = plt.subplots(2,2)  # Create four subplots (2x2 grid)\n",
    "(aR, aG, aB, aRGB) = axes.flatten()\n",
    "\n",
    "aR.imshow(myRGBArray[:,:,0], cmap=\"gray\")  # Displaying individual channels in gray prevents false highlighting of areas\n",
    "aR.set_axis_off()\n",
    "aR.set_title(\"Red Channel\")\n",
    "\n",
    "aG.imshow(myRGBArray[:,:,1], cmap=\"gray\")\n",
    "aG.set_axis_off()\n",
    "aG.set_title(\"Green Channel\")\n",
    "\n",
    "aB.imshow(myRGBArray[:,:,2], cmap=\"gray\")\n",
    "aB.set_axis_off()\n",
    "aB.set_title(\"Blue Channel\")\n",
    "\n",
    "aRGB.imshow(myRGBArray/8)  # Matlab expects values between 0 and 1 or 0 and 255 (see bit-depth below)\n",
    "aRGB.set_axis_off()\n",
    "aRGB.set_title(\"Composite\")\n",
    "\n",
    "plt.show()"
   ]
  },
  {
   "cell_type": "markdown",
   "metadata": {
    "slideshow": {
     "slide_type": "subslide"
    }
   },
   "source": [
    "### Spatial Sampling\n",
    "\n",
    "* The number of pixels in in a image denote the resolution.\n",
    "  * In NumPy, the resolution is the shape of the array, e.g. `myArray.shape`\n",
    "* Each pixel will represent a physical size, e.g. $3 \\mu m \\times 3 \\mu m$ (also often call resolution)\n",
    "  * This is not explicitly coded into a digital image or NumPy array so we will need to be extracted from the metadata.\n",
    "\n",
    "<!-- ![The number of pixels in in a image denote the resolution.](./assets/resolution.png) -->"
   ]
  },
  {
   "cell_type": "markdown",
   "metadata": {
    "slideshow": {
     "slide_type": "subslide"
    }
   },
   "source": [
    "### Intensity Sampling\n",
    "\n",
    "* The bit-depth of an image describes the dynamic range of a pixel, i.e. the difference between the minimum and maximum possible values.\n",
    "  * The equivalent feature of a Numpy array is its `dtype`.\n",
    "* Most DSLR cameras will use 8-bit for grayscale images and 3x8-bit (24-bit) for colour images.\n",
    "  * In NumPy this is `uint8`.\n",
    "* Most scientific cameras will use 12-bit or 16-bit. (Both will appear to be 16-bit due to the container files.)\n",
    "  * In NumPy this is `uint16`.\n",
    "* A lot of image processing requires continuous pixel values, i.e. decimals between 0 and 1.\n",
    "  * In NumPy these values are `float`.\n",
    "* Up to 16-bit, computers use unsigned integers to represent pixel values; however, 32 and 64-bit images will likely use `float` (continous numbers with decimal points). Each has its benefits.\n",
    "* It is always possible to process images in a higher bit-depth container/array without lose of data, e.g. converting an 8-bit image to a `float` array; but be wary of accidentally doing things the other way, e.g. opening a 16-bit image in an `uint8` array."
   ]
  },
  {
   "cell_type": "markdown",
   "metadata": {
    "slideshow": {
     "slide_type": "subslide"
    }
   },
   "source": [
    "![The bit-depth of an image describes the dynamic range of a pixel, i.e. the difference between the minimum and maximum pixel values.](./assets/bitdepth.png)\n",
    "\n",
    "*Courtesy of Dominic Waithe; apple from https://www.wikipedia.org*"
   ]
  },
  {
   "cell_type": "markdown",
   "metadata": {
    "slideshow": {
     "slide_type": "slide"
    }
   },
   "source": [
    "### Look-Up Tables (LUTs) and Composites\n",
    "\n",
    "* Pixel values can be visualised with a range of different colours.\n",
    "* The 'mapping' from a grayscale value to a colour is done through a Look-Up Table (LUT)\n",
    "* It's important to be aware that there are good and bad LUTs - some, like Jet, are not perceptually uniform and will artificially highlight the yellow-red features.\n",
    "  * Poor use of mapping can create perceptual changes that are independent of the underlying pixel value"
   ]
  },
  {
   "cell_type": "code",
   "execution_count": null,
   "metadata": {
    "slideshow": {
     "slide_type": "slide"
    }
   },
   "outputs": [],
   "source": [
    "# Create an array of a Guassian disc with values between 0 and 4096 (exclusive)\n",
    "# The array has ten rows and fifteen columns\n",
    "\n",
    "rows = 10\n",
    "columns = 15\n",
    "x, y = np.meshgrid(np.linspace(-1,1,columns), np.linspace(-1,1,rows))\n",
    "d = np.sqrt(x*x+y*y)\n",
    "sigma = 0.5\n",
    "my12BitArray = ((2**12-1)*np.exp(-( (d)**2 / ( 2.0 * sigma**2 ) ) )).astype('uint16')  # note how 12 bits are stored in a 16-bit array\n",
    "\n",
    "f, axes = plt.subplots(2,3)  # Create six subplots (2x3 grid)\n",
    "(aG, aS, aV, aH, aRB, aHSV) = axes.flatten()\n",
    "\n",
    "aG.imshow(my12BitArray, cmap=\"gray\", vmin=0, vmax=(2**16)-1)\n",
    "aG.set_axis_off()\n",
    "aG.set_title(\"Gray (not scaled)\")\n",
    "\n",
    "aS.imshow(my12BitArray, cmap=\"gray\")\n",
    "aS.set_axis_off()\n",
    "aS.set_title(\"Gray (scaled)\")\n",
    "\n",
    "aV.imshow(my12BitArray, cmap=\"viridis\")  # also check out 'magma'\n",
    "aV.set_axis_off()\n",
    "aV.set_title(\"Viridis (perceptually uniform)\")\n",
    "\n",
    "aH.imshow(my12BitArray, cmap=\"hot\")\n",
    "aH.set_axis_off()\n",
    "aH.set_title(\"Hot (squential colormap)\")\n",
    "\n",
    "aRB.imshow(my12BitArray, cmap=\"RdBu\")\n",
    "aRB.set_axis_off()\n",
    "aRB.set_title(\"RdBu (diverging colormap)\")\n",
    "\n",
    "aHSV.imshow(my12BitArray, cmap=\"hsv\")\n",
    "aHSV.set_axis_off()\n",
    "aHSV.set_title(\"HSV (not perceptually uniform)\")\n",
    "\n",
    "plt.show()"
   ]
  },
  {
   "cell_type": "markdown",
   "metadata": {
    "slideshow": {
     "slide_type": "notes"
    }
   },
   "source": [
    "* Different channels/colours of an image can be combined to create a composite image.\n",
    "* We're all used to seeing RGB composite images everyday.\n",
    "* However, in microscopy, we can choose the LUTs used for independent channels giving us greater flexibility.\n",
    "* Bear in mind that some colours, e.g. the ubiquitous red-green pairing, are not colourblind friendly.\n",
    "  * To get around this, we recommend always showing invidiual channels in grayscale and, for composites, using green-magenta or green-cyan colour pairs."
   ]
  },
  {
   "cell_type": "code",
   "execution_count": null,
   "metadata": {},
   "outputs": [],
   "source": [
    "# Create an array of offset Guassian discs with values between 0 and 1024 (exclusive)\n",
    "# The array has ten rows and fifteen columns and two channels\n",
    "\n",
    "rows = 10\n",
    "columns = 15\n",
    "x, y = np.meshgrid(np.linspace(-1,1,columns), np.linspace(-1,1,rows))\n",
    "d = np.sqrt(x*x+y*y)\n",
    "sigma = 0.5\n",
    "disc = ((2**8-1)*np.exp(-( (d)**2 / ( 2.0 * sigma**2 ) ))).astype('uint8')\n",
    "my2ChannelArray = np.stack([disc,np.roll(disc,1,axis=0)],axis=2)\n",
    "\n",
    "f, axes = plt.subplots(1,3)  # Create three subplots (1x3 grid)\n",
    "(c1, c2, comp) = axes.flatten()\n",
    "\n",
    "c1.imshow(my2ChannelArray[:,:,0], cmap=\"gray\")\n",
    "c1.set_axis_off()\n",
    "c1.set_title(\"Channel 1\")\n",
    "\n",
    "c2.imshow(my2ChannelArray[:,:,1], cmap=\"gray\")\n",
    "c2.set_axis_off()\n",
    "c2.set_title(\"Channel 2\")\n",
    "\n",
    "# Make a green-magenta mapping of the two channels and move colour to end dimension\n",
    "green_magenta = np.moveaxis([my2ChannelArray[:,:,1],my2ChannelArray[:,:,0],my2ChannelArray[:,:,1]],0,-1)\n",
    "\n",
    "comp.imshow(green_magenta)\n",
    "comp.set_axis_off()\n",
    "comp.set_title(\"Composite\")\n",
    "\n",
    "plt.show()"
   ]
  },
  {
   "cell_type": "markdown",
   "metadata": {
    "slideshow": {
     "slide_type": "slide"
    }
   },
   "source": [
    "### Working in More Than Two Dimensions\n",
    "\n",
    "* Python is able to use arrays of N dimensions.\n",
    "* In microscopy, we're likely to need up to 6: $x$, $y$, $z$, $t$ and $\\lambda$.\n",
    "* For computational efficiency, in multidimensional scenarios, we will treat the first axis for time, the second for z-slice the third as $x$, the fourth as $y$, and the fifth as colour/wavelength ($\\lambda$). (The last three dimensions are as previously described.)\n",
    "* You may choose a different dimension order depending on your analysis needs, e.g. if you are treating each channel differently then it make make more sense for $\\lambda$ to be the first dimension.\n",
    "\n",
    "![Python can cope with arryas that have N dimensions.](https://fgnt.github.io/python_crashkurs_doc/_images/numpy_array_t.png)\n",
    "\n",
    "*From https://github.com/elegant-scipy/elegant-scipy*"
   ]
  },
  {
   "cell_type": "code",
   "execution_count": null,
   "metadata": {},
   "outputs": [],
   "source": [
    "# Create an array of a Gaussian disc with values between 0 and 1024 (exclusive)\n",
    "# The array has ten rows and fifteen columns and five z-slices\n",
    "\n",
    "# Create a 3-channel array of offset Gaussian discs with values  between 0 and 8 (exclusive)\n",
    "# The array has ten rows and fifteen columns\n",
    "\n",
    "rows = 10\n",
    "columns = 15\n",
    "slices = 5\n",
    "z, x, y = np.meshgrid(np.linspace(-1,1,slices), np.linspace(-1,1,rows), np.linspace(-1,1,columns), indexing='ij')\n",
    "d = np.sqrt(x**2+y**2+z**2)\n",
    "sigma = 0.5\n",
    "my3DArray = ((2**8-1)*np.exp(-( (d)**2 / ( 2.0 * sigma**2 ) ))).astype('uint8')\n",
    "\n",
    "display(my3DArray.shape)"
   ]
  },
  {
   "cell_type": "code",
   "execution_count": null,
   "metadata": {},
   "outputs": [],
   "source": [
    "# Plot X-MIP, Y-MIP and Z-MIP using Matplotlib\n",
    "f, axes = plt.subplots(2,2, gridspec_kw={'height_ratios':[rows/(rows+slices),slices/(rows+slices)],\n",
    "                                         'hspace':0.5,\n",
    "                                         'width_ratios':[slices/(columns+slices),columns/(columns+slices)]})  # Create four subplots (2x2 grid), grispec_kw is used to keep subplots proportional\n",
    "# note: the current Jupyter Lab widget for matplotlib likes to stretch figures across the viewer width - hence the big gap between the left and right\n",
    "(XZ, XY, null, ZY) = axes.flatten()\n",
    "f.suptitle(\"Maximum Intensity Projection...\")\n",
    "\n",
    "ZY.imshow(my3DArray.max(axis=1), aspect=1.0, cmap=\"gray\", interpolation='none')  # aspect can be set to the ratio between the z and y pixel size\n",
    "ZY.grid(False)\n",
    "# ZY.set_ylim(0,10)  # This and the next line are just a hacky fix to keep proportions the same for all subplots\n",
    "# ZY.set_yticks(np.arange(0,slices))\n",
    "ZY.set_title(\"...over X\")\n",
    "\n",
    "XZ.imshow(my3DArray.max(axis=2).T, aspect=1.0, cmap=\"gray\", interpolation='none')  # aspect can be set to the ratio between the x and z pixel size\n",
    "XZ.grid(False)\n",
    "XZ.set_title(\"...over Y\")\n",
    "\n",
    "XY.imshow(my3DArray.max(axis=0), aspect=1.0, cmap=\"gray\", interpolation='none')  # aspect can be set to the ratio between the x and y pixel size\n",
    "XY.grid(False)\n",
    "XY.set_title(\"...over Z\")\n",
    "\n",
    "null.set_axis_off()  # clear unused subplot\n",
    "\n",
    "# Challenge: have a think about the intensity scaling that's going on here, how could that be accounted for?\n",
    "\n",
    "plt.show()"
   ]
  },
  {
   "cell_type": "code",
   "execution_count": null,
   "metadata": {},
   "outputs": [],
   "source": [
    "# Now use ipywidgets slider to scroll through the z-slices\n",
    "import ipywidgets as widgets\n",
    "import IPython.display as ipyd\n",
    "\n",
    "#  Function to update slice on widget change\n",
    "def update_slice(value):\n",
    "    ax.imshow(my3DArray[value['new'],:,:], cmap='gray', vmin=my3DArray.min(), vmax=my3DArray.max(), interpolation='none')\n",
    "    slice_label.value = 'Currently viewing slice {0} of {1}'.format(slice_slider.value,my3DArray.shape[0])\n",
    "\n",
    "# Define starting plot\n",
    "f, ax = plt.subplots(1,1)  # Create one subplot (1x1 grid)\n",
    "ax.grid(False)\n",
    "ax.set_title('Z-slice Viewer')\n",
    "ax.imshow(my3DArray[0,:,:], cmap='gray', vmin=my3DArray.min(), vmax=my3DArray.max(), interpolation='none')\n",
    "\n",
    "# Define widget\n",
    "slice_slider = widgets.IntSlider(0, min = 0, max = my3DArray.shape[0])\n",
    "slice_label = widgets.Label(value = 'Currently viewing slice {0} of {1}'.format(slice_slider.value,my3DArray.shape[0]))\n",
    "\n",
    "slice_slider.observe(update_slice, names = 'value')\n",
    "\n",
    "plt.show()\n",
    "ipyd.display(slice_slider, slice_label)"
   ]
  },
  {
   "cell_type": "markdown",
   "metadata": {},
   "source": [
    "## Reading/Writing Images in Python\n",
    "\n",
    "### Data\n",
    "\n",
    "The image we will use for the rest of this tutorial is from the Broad Bioimage Benchmark Collection data set BBBC0034v1 (https://data.broadinstitute.org/bbbc/; Thirstrup et al. 2018).\n",
    "\n",
    "See https://data.broadinstitute.org/bbbc/BBBC034/ for the full description; however, the key points are:\n",
    "\n",
    "* $1024 \\times 1024 \\times 52$ pixels\n",
    "* $65 \\times 65 \\times 290$ nm/pixel\n",
    "* 4 channels (each stored as separate files):\n",
    "  * Cell membrane label (C=0)\n",
    "  * Actin label (C=1)\n",
    "  * DNA label (C=2)\n",
    "  * Brightfield image (C=3)"
   ]
  },
  {
   "cell_type": "code",
   "execution_count": null,
   "metadata": {},
   "outputs": [],
   "source": [
    "# Run this cell to download and unzip the images we need\n",
    "# You do not need to understand it, but happy to explain during coffee\n",
    "# You only need to run this cell once and then you may comment it out\n",
    "import urllib.request\n",
    "import io\n",
    "import zipfile\n",
    "import os\n",
    "from tqdm import tqdm_notebook, tnrange\n",
    "\n",
    "url = 'https://data.broadinstitute.org/bbbc/BBBC034/BBBC034_v1_dataset.zip'\n",
    "\n",
    "with urllib.request.urlopen(url) as response:\n",
    "    print(\"Downloading...\")\n",
    "    length = int(response.getheader('content-length'))\n",
    "    chunk = max(4096, length//9999)\n",
    "    \n",
    "    buffer = io.BytesIO()\n",
    "    size = 0\n",
    "    for b in tnrange(length//chunk + 1):\n",
    "        block = response.read(chunk)\n",
    "        if not block:\n",
    "            print(\"Finished reading after {0}% of file.\".format(size/length))\n",
    "        buffer.write(block)\n",
    "        size = size + len(block)\n",
    "    print(\"Finished reading file.\")\n",
    "    \n",
    "    print(\"Unzipping... \",end=\"\")\n",
    "    zf = zipfile.ZipFile(buffer)\n",
    "    os.makedirs('./assets/bbbc034v1/',exist_ok=True)\n",
    "    zf.extractall(path='./assets/bbbc034v1')\n",
    "    print(\"Complete.\")"
   ]
  },
  {
   "cell_type": "markdown",
   "metadata": {},
   "source": [
    "### Reading Multidimensional TIF files\n",
    "\n",
    "We will use the [`tifffile` plug-in](https://www.lfd.uci.edu/~gohlke/code/tifffile.py.html) for reading and writing multidimensional TIF files. This is includedas part of the [`io` submodule](https://scikit-image.org/docs/stable/api/skimage.io.html) within the popular image processing module [`scikit-image`](https://scikit-image.org).\n",
    "\n",
    "The `imread` function is able to deal with any multidimensional TIF file that `tiffile` is capable of reading - this means pretty much any TIF that's compatabile with ImageJ/FIJI.\n",
    "\n",
    "#### Aside: Reading 'Collections'\n",
    "\n",
    "* A 'collection' is a series of files containing a single 2D image whose names follow a name pattern, e.g. `file1.tif`, `file2.tif`, `file3.tif` all follow the pattern `file*.tif`.\n",
    "* Collections may represent a time series, where each individual file could be a 2D TIF file, or a z-stack.\n",
    "* One benefit with collections is that `scikit-image` can load frames into memory only when needed.\n",
    "* Collections can read using, for example,\n",
    "\n",
    "```python\n",
    "from skimage import io\n",
    "\n",
    "collection = io.imread_collection('./file*.tif',conserve_memory=True)\n",
    "frame1 = collection[0]\n",
    "```"
   ]
  },
  {
   "cell_type": "code",
   "execution_count": null,
   "metadata": {},
   "outputs": [],
   "source": [
    "from skimage import io\n",
    "\n",
    "# Read a single multidimensional TIF file, in this case a single channel with multiple z-slices.\n",
    "c1 = io.imread('./assets/bbbc034v1/AICS_12_134_C=1.tif')\n",
    "\n",
    "# Confirm that this image is in fact a numpy array\n",
    "display(type(c1))\n",
    "\n",
    "# Metadata for future use later\n",
    "x_pixel_size = 65  # nm\n",
    "y_pixel_size = 65  # nm\n",
    "z_pixel_size = 290  # nm"
   ]
  },
  {
   "cell_type": "markdown",
   "metadata": {},
   "source": [
    "<div style=\"background-color:#abd9e9; border-radius: 5px; padding: 10pt\"><strong>Task:</strong> In the cell below confirm the size of these images in pixels and the bit-depth of the image.</div>"
   ]
  },
  {
   "cell_type": "code",
   "execution_count": null,
   "metadata": {},
   "outputs": [],
   "source": []
  },
  {
   "cell_type": "markdown",
   "metadata": {},
   "source": [
    "<div style=\"background-color:#abd9e9; border-radius: 5px; padding: 10pt\"><strong>Task</strong> Using the codes above, create a new code cell and make a figure showing maximum projections in all three dimensions.</div>"
   ]
  },
  {
   "cell_type": "markdown",
   "metadata": {},
   "source": [
    "<div style=\"background-color:#abd9e9; border-radius: 5px; padding: 10pt\"><strong>Task</strong> Using the codes above, create a new code cell and make an interactive figure allowing you to scroll through $z$.</div>"
   ]
  },
  {
   "cell_type": "markdown",
   "metadata": {},
   "source": [
    "<div style=\"background-color:#abd9e9; border-radius: 5px; padding: 10pt\"><strong>Task</strong> Using the information above, read the other three channels for this data into the variables <code>c0</code>, <code>c2</code> and <code>c3</code>.</div>"
   ]
  },
  {
   "cell_type": "code",
   "execution_count": null,
   "metadata": {},
   "outputs": [],
   "source": []
  },
  {
   "cell_type": "markdown",
   "metadata": {},
   "source": [
    "<div style=\"background-color:#abd9e9; border-radius: 5px; padding: 10pt\"><strong>Task</strong> Use your existing Python skills to combine these four arrays into a single, 4D NumPy array called <code>my4DArray</code>. Print its shape to confirm your dimensions are in the right order.</div>"
   ]
  },
  {
   "cell_type": "markdown",
   "metadata": {},
   "source": [
    "### Saving Multidimensional TIF files\n",
    "\n",
    "Like `imread`, the `scitkit-image` function `imsave` is able to deal with any multidimensional TIF file that `tiffile` is capable of saving - again, this means pretty much any TIF file that's compatabile with ImageJ/FIJI.\n",
    "\n",
    "We can also include metadata in our TIF file, which ImageJ/FIJI can then read and use as appropriate."
   ]
  },
  {
   "cell_type": "code",
   "execution_count": null,
   "metadata": {},
   "outputs": [],
   "source": [
    "# Save our multicolour stack to a new ImageJ-compatible TIF file\n",
    "# tifffile wants our array to be in TZCYXS order for imageJ compatibility\n",
    "my4DArray = np.moveaxis(my4DArray,-1,1)  # so move C from the end to second dimension\n",
    "io.imsave('./assets/bbbc034v1/AICS_12_134_C=all.tif',\n",
    "          my4DArray,\n",
    "          imagej=True,\n",
    "          resolution=(1/x_pixel_size,1/y_pixel_size),\n",
    "          metadata={'spacing':z_pixel_size,'unit':'nm'})"
   ]
  },
  {
   "cell_type": "markdown",
   "metadata": {},
   "source": [
    "<div style=\"background-color:#abd9e9; border-radius: 5px; padding: 10pt\"><strong>Task</strong> Open your new file in ImageJ/FIJI and check that the dimensions are correct and that the metadata has been read.</div>"
   ]
  },
  {
   "cell_type": "markdown",
   "metadata": {},
   "source": [
    "## Cropping/Subsampling and NumPy Indexing"
   ]
  },
  {
   "cell_type": "markdown",
   "metadata": {},
   "source": [
    "* Because we're usijng NumPy arrays to hold our image data, we can make use of all the benefits of NumPy Arrays\n",
    "  * For example, we've already used `ndarray.max()` to calculate maximum intensity projections along an axis (dimension)\n",
    "* One such advantage is NumPy indexing.\n",
    "* Indexing allows us to crop our image, quickly subsampe our image (not the same as resizing properly), quickly extract the intensity for a list of pixels, e.g. pixels denoting a segmentented object."
   ]
  },
  {
   "cell_type": "code",
   "execution_count": null,
   "metadata": {},
   "outputs": [],
   "source": [
    "# Use a single plane from a 3D image array\n",
    "mySlice =  c1[22,:,:]  # we've already seen this in our slice viewer above\n",
    "\n",
    "# Plot\n",
    "f, ax = plt.subplots(1,1)  # Create one subplot (1x1 grid)\n",
    "ax.grid(False)\n",
    "ax.imshow(mySlice, cmap='gray', interpolation='none')\n",
    "\n",
    "plt.show()"
   ]
  },
  {
   "cell_type": "code",
   "execution_count": null,
   "metadata": {},
   "outputs": [],
   "source": [
    "# Crop a 2D image in x and y\n",
    "x_start = 256\n",
    "y_start = 256\n",
    "x_end = 768\n",
    "y_end = 768\n",
    "\n",
    "myCrop = mySlice[x_start:x_end,y_start:y_end]\n",
    "\n",
    "# Plot\n",
    "f, axes = plt.subplots(1,2)  # Create one subplot (1x2 grid)\n",
    "(aS, aC) = axes.flatten()\n",
    "\n",
    "aS.grid(False)\n",
    "aS.imshow(mySlice, cmap='gray', interpolation='none')\n",
    "aS.set_title('Full image')\n",
    "\n",
    "aC.grid(False)\n",
    "aC.imshow(myCrop, cmap='gray', interpolation='none')\n",
    "aC.set_title('Cropped image')\n",
    "\n",
    "plt.show()"
   ]
  },
  {
   "cell_type": "code",
   "execution_count": null,
   "metadata": {},
   "outputs": [],
   "source": [
    "# Quickly subsample a 2D image by taking every fourth pixel in x and y\n",
    "# Note we can resize more cleverly using interpolation methods\n",
    "mySubsample = mySlice[::4,::4]\n",
    "\n",
    "# Plot\n",
    "f, axes = plt.subplots(1,2)  # Create one subplot (1x2 grid)\n",
    "(aF, aS) = axes.flatten()\n",
    "\n",
    "aF.grid(False)\n",
    "aF.imshow(mySlice, cmap='gray', interpolation='none')\n",
    "aF.set_title('Full image')\n",
    "\n",
    "aS.grid(False)\n",
    "aS.imshow(mySubsample, cmap='gray', interpolation='none')\n",
    "aS.set_title('Subsampled image')\n",
    "\n",
    "plt.show()"
   ]
  },
  {
   "cell_type": "code",
   "execution_count": null,
   "metadata": {},
   "outputs": [],
   "source": [
    "# Explore the statistics of a list of pixels, e.g. a segmented area\n",
    "myPixelIdx = np.meshgrid(np.arange(128,256),np.arange(512,768))\n",
    "myPixelIdx = tuple(myPixelIdx)  # this future proofs us\n",
    "myPixelVal = mySlice[myPixelIdx]\n",
    "\n",
    "print('Region has a mean value of {0} and ranges between {1} and {2}.'.format(myPixelVal.mean(),myPixelVal.min(),myPixelVal.max()))\n",
    "\n",
    "# Plot our image with the pixel's we investigated as white (actually use the region max).\n",
    "myEditedSlice = mySlice.copy()\n",
    "myEditedSlice[myPixelIdx] = myPixelVal.max()\n",
    "f, ax = plt.subplots(1,1)  # Create one subplot (1x1 grid)\n",
    "ax.grid(False)\n",
    "ax.imshow(myEditedSlice, cmap='gray', interpolation='none')\n",
    "\n",
    "plt.show()"
   ]
  },
  {
   "cell_type": "markdown",
   "metadata": {},
   "source": [
    "## Histograms"
   ]
  },
  {
   "cell_type": "markdown",
   "metadata": {},
   "source": [
    "* Finally, we often want to see the distribution of intensities for an image, channel or region of an image.\n",
    "* This can be quckly accomplished using the plotting package [`seaborn`](https://seaborn.pydata.org)."
   ]
  },
  {
   "cell_type": "code",
   "execution_count": null,
   "metadata": {},
   "outputs": [],
   "source": [
    "# Plot Each Channel (Z-MIP) and histogram\n",
    "f, axes = plt.subplots(2,4)  # Create eight subplots (2x4 grid)\n",
    "(i0, i1, i2, i3, h0, h1, h2, h3) = axes.flatten()\n",
    "\n",
    "i0.imshow(c0.max(axis=0), cmap=\"gray\", interpolation='none')\n",
    "i0.set_axis_off()\n",
    "i0.set_title(\"Channel 0 Z-MIP\")\n",
    "\n",
    "sns.distplot(c0.flatten(),kde=False,ax=h0)\n",
    "h0.set_xlabel('Pixel Value')\n",
    "h0.set_ylabel('Count')\n",
    "\n",
    "i1.imshow(c1.max(axis=0), cmap=\"gray\", interpolation='none')\n",
    "i1.set_axis_off()\n",
    "i1.set_title(\"Channel 1 Z-MIP\")\n",
    "\n",
    "sns.distplot(c1.flatten(),kde=False,ax=h1)\n",
    "h1.set_xlabel('Pixel Value')\n",
    "# h1.set_ylabel('Count')\n",
    "\n",
    "i2.imshow(c2.max(axis=0), cmap=\"gray\", interpolation='none')\n",
    "i2.set_axis_off()\n",
    "i2.set_title(\"Channel 2 Z-MIP\")\n",
    "\n",
    "sns.distplot(c2.flatten(),kde=False,ax=h2)\n",
    "h2.set_xlabel('Pixel Value')\n",
    "# h2.set_ylabel('Count')\n",
    "\n",
    "i3.imshow(c3.max(axis=0), cmap=\"gray\", interpolation='none')\n",
    "i3.set_axis_off()\n",
    "i3.set_title(\"Channel 3 Z-MIP\")\n",
    "\n",
    "sns.distplot(c3.flatten(),kde=False,ax=h3)\n",
    "h3.set_xlabel('Pixel Value')\n",
    "# h3.set_ylabel('Count')\n",
    "\n",
    "plt.show()"
   ]
  },
  {
   "cell_type": "markdown",
   "metadata": {},
   "source": [
    "## Summary\n",
    "\n",
    "* `numpy` arrays can be used to store and manipulate digital images\n",
    "  * The `shape` of a NumPy array corresponds to the image resolution\n",
    "  * The `dtype` of a NumPy array corresponses to the bit-depth\n",
    "  * We will use NumPy axes to correspond to image dimensions $t$, $z$, $x$, $y$, $\\lambda$ in that order\n",
    "  * Indexing allows us to access individual slices/channels, crop and sample from images\n",
    "* We can use `scikit-image` to read and write multidimensional TIF files with `imread` and `imwrite`\n",
    "* We can use `seaborn` to quickly plot a histogram (`distplot`) of our image/array"
   ]
  }
 ],
 "metadata": {
  "kernelspec": {
   "display_name": "Python 3",
   "language": "python",
   "name": "python3"
  },
  "language_info": {
   "codemirror_mode": {
    "name": "ipython",
    "version": 3
   },
   "file_extension": ".py",
   "mimetype": "text/x-python",
   "name": "python",
   "nbconvert_exporter": "python",
   "pygments_lexer": "ipython3",
   "version": "3.7.4"
  },
  "widgets": {
   "application/vnd.jupyter.widget-state+json": {
    "state": {},
    "version_major": 2,
    "version_minor": 0
   }
  }
 },
 "nbformat": 4,
 "nbformat_minor": 4
}
