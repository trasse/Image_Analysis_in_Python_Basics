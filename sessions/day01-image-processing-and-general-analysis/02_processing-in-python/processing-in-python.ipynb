{
 "cells": [
  {
   "cell_type": "markdown",
   "metadata": {
    "slideshow": {
     "slide_type": "slide"
    }
   },
   "source": [
    "# Image Processing in Python\n",
    "\n",
    "**Part of the IAFIG-RMS *Python for Bioimage Analysis* Course.**\n",
    "\n",
    "*Dr Chas Nelson*\n",
    "\n",
    "2019-12-09 1300--1430"
   ]
  },
  {
   "cell_type": "markdown",
   "metadata": {
    "slideshow": {
     "slide_type": "slide"
    }
   },
   "source": [
    "## Aim\n",
    "\n",
    "To revise key tools of image processing and carry out these operations in Python."
   ]
  },
  {
   "cell_type": "markdown",
   "metadata": {
    "slideshow": {
     "slide_type": "subslide"
    }
   },
   "source": [
    "## ILOs\n",
    "\n",
    "* Appreciate the capabilities of `scikit-image` for image processing in a Python environment\n",
    "* Apply known image processing techniques (e.g. smoothing) in a Python environment\n",
    "* Recognise additional image processing techniques (e.g. deconvolution) that are possible in a Python environment\n",
    "* Relate global grayscale thresholding and the logical array to segmentation and binary images"
   ]
  },
  {
   "cell_type": "markdown",
   "metadata": {},
   "source": [
    "## Imports"
   ]
  },
  {
   "cell_type": "code",
   "execution_count": null,
   "metadata": {},
   "outputs": [],
   "source": [
    "%matplotlib widget\n",
    "import numpy as np\n",
    "import matplotlib.pyplot as plt\n",
    "import seaborn as sns; sns.set()\n",
    "import ipywidgets as widgets\n",
    "import IPython.display as ipyd\n",
    "from skimage import io"
   ]
  },
  {
   "cell_type": "markdown",
   "metadata": {},
   "source": [
    "## Data\n",
    "\n",
    "The image we will use for the rest of this tutorial is from the Broad Bioimage Benchmark Collection data set BBBC0034v1 (https://data.broadinstitute.org/bbbc/; Thirstrup et al. 2018).\n",
    "\n",
    "See https://data.broadinstitute.org/bbbc/BBBC034/ for the full description; however, the key points are:\n",
    "\n",
    "* $1024 \\times 1024 \\times 52$ pixels\n",
    "* $65 \\times 65 \\times 290$ nm/pixel\n",
    "* 4 channels (each stored as separate files):\n",
    "  * Cell membrane label (C=0)\n",
    "  * Actin label (C=1)\n",
    "  * DNA label (C=2)\n",
    "  * Brightfield image (C=3)\n",
    "  \n",
    "The below cell can be run to create a local link to the data that we downloaded in the previous session. You only need to run this cell once and then you may comment it out"
   ]
  },
  {
   "cell_type": "code",
   "execution_count": null,
   "metadata": {},
   "outputs": [],
   "source": [
    "import os\n",
    "\n",
    "os.symlink('../01_images-in-python/assets/bbbc034v1','./assets/bbbc034v1')"
   ]
  },
  {
   "cell_type": "markdown",
   "metadata": {},
   "source": [
    "## Contrast and Histogram Equalisation\n",
    "\n",
    "* As previously mentioned, image data may not spread across the whole bit-depth (`dtype`) of an image (array).\n",
    "* The submodule `skimage.exposure` provides a range of functions for spreading an image's intensity over the full range.\n",
    "* The simplest approach to this is to rescale the intensity levels."
   ]
  },
  {
   "cell_type": "code",
   "execution_count": null,
   "metadata": {},
   "outputs": [],
   "source": [
    "# Read a multidimensional TIF file, in this case a single channel with multiple z-slices.\n",
    "myStack = io.imread('./assets/bbbc034v1/AICS_12_134_C=1.tif')\n",
    "\n",
    "# Metadata for future use later\n",
    "x_pixel_size = 65  # nm\n",
    "y_pixel_size = 65  # nm\n",
    "z_pixel_size = 290  # nm\n",
    "\n",
    "# Take single slice\n",
    "mySlice = myStack[26,:,:]"
   ]
  },
  {
   "cell_type": "markdown",
   "metadata": {},
   "source": [
    "<div style=\"background-color:#abd9e9; border-radius: 5px; padding: 10pt\"><strong>Task:</strong> Create a new cell below and use the <a href='https://scikit-image.org/docs/stable/api/skimage.exposure.html#skimage.exposure.rescale_intensity'><code>skimage.exposure.rescale_intensity()</code></a> function to rescale `mySlice` from 16-bit (assume it uses the full range) to 8-bit values. Check that the np array dtype is correct. Plot the two images side by side and their histograms beneath.</div>"
   ]
  },
  {
   "cell_type": "markdown",
   "metadata": {},
   "source": [
    "<div style=\"background-color:#abd9e9; border-radius: 5px; padding: 10pt\"><strong>Task:</strong> Now create a new cell below and map the data to the full 16-bit range. Check that the np array dtype is correct. Plot the two images side by side (use a full 16-bit colour mapping) and their histograms beneath.</div>"
   ]
  },
  {
   "cell_type": "markdown",
   "metadata": {},
   "source": [
    "<div style=\"background-color:#abd9e9; border-radius: 5px; padding: 10pt\"><strong>Task:</strong> Now create a new cell below and, using the codes above and the following tutorial, create a figure howing the original image, constrast stretched image, histogram equalised image and adaptive histogram equalised image, all with their histograms. You can find the tutorial at: <a href=\"https://scikit-image.org/docs/stable/auto_examples/color_exposure/plot_equalize.html#sphx-glr-auto-examples-color-exposure-plot-equalize-py\">https://scikit-image.org/docs/stable/auto_examples/color_exposure/plot_equalize.html#sphx-glr-auto-examples-color-exposure-plot-equalize-py</a>.</div>"
   ]
  },
  {
   "cell_type": "markdown",
   "metadata": {},
   "source": [
    "## Image Filtering\n",
    "\n",
    "* Many image processing tasks include filtering, either in the spatial or frequency domain.\n",
    "* Again, `scitkit-image` has many of these filters built in to the submodule `scikit-image.filters`."
   ]
  },
  {
   "cell_type": "markdown",
   "metadata": {},
   "source": [
    "<div style=\"background-color:#abd9e9; border-radius: 5px; padding: 10pt\"><strong>Task:</strong> Using the <a href=\"https://scikit-image.org/docs/stable/api/skimage.filters.html\"><code>skimage.filters</code></a> submodule create a figure with a crop of the original slice (256-by-256 pixels, centred) and the results of applying a Gaussian blue; median filter; unsharp mask; sobel edge filter; and Meijering neuriteness ridge oeprator of the cropped region.</div>"
   ]
  },
  {
   "cell_type": "markdown",
   "metadata": {},
   "source": [
    "## Deconvolution\n",
    "\n",
    "* One common operation in microscopy that takes place in the frequency domain is deconvolution.\n",
    "* `scitkit-image.restoration` has a variety of denoising and deconvolution algorithms, including a Richardson-Lucy implementation."
   ]
  },
  {
   "cell_type": "code",
   "execution_count": null,
   "metadata": {},
   "outputs": [],
   "source": [
    "import psf\n",
    "from skimage import transform\n",
    "from skimage import exposure\n",
    "\n",
    "sz = 11\n",
    "args = {\n",
    "    'shape': (sz, sz),  # size of calculated psf array in pixels\n",
    "    'dims': (x_pixel_size/1000*sz, y_pixel_size/1000*sz),  # size of array in microns\n",
    "    'em_wavelen': 520.0,  # emission wavelength in nanometers\n",
    "    'num_aperture': 1.25,  # numerical aperture\n",
    "    'refr_index': 1.333,  # refractive index\n",
    "    'magnification': 100,  # magnification\n",
    "}\n",
    "\n",
    "gauss = psf.PSF(psf.GAUSSIAN | psf.EMISSION, **args)\n",
    "\n",
    "psf_ideal = gauss.volume()\n",
    "\n",
    "# # Display PSF before resizing for anisotropy\n",
    "# f, axes = plt.subplots(2,2)\n",
    "# (XZ, XY, null, ZY) = axes.flatten()\n",
    "# f.suptitle(\"Gaussian PSF\")\n",
    "\n",
    "# ZY.imshow(psf_ideal[:,sz,:], cmap=\"gray\", interpolation='none')\n",
    "# ZY.grid(False)\n",
    "# ZY.set_title(\"Central X-slice\")\n",
    "\n",
    "# XZ.imshow(psf_ideal[:,:,sz].T, cmap=\"gray\", interpolation='none')\n",
    "# XZ.grid(False)\n",
    "# XZ.set_title(\"Central Y-slice\")\n",
    "\n",
    "# XY.imshow(psf_ideal[sz,:,:], cmap=\"gray\", interpolation='none')\n",
    "# XY.grid(False)\n",
    "# XY.set_title(\"Central Z-slice\")\n",
    "\n",
    "# null.set_axis_off()  # clear unused subplot\n",
    "\n",
    "# plt.tight_layout()\n",
    "# plt.show()\n",
    "\n",
    "# Resize for anisotropy of our image (this is a bit rough and can be done better - but it works for this example)\n",
    "psf_rescaled = transform.resize(psf_ideal,\n",
    "                                (np.ceil(psf_ideal.shape[0]*(x_pixel_size/z_pixel_size)),\n",
    "                                 psf_ideal.shape[1],\n",
    "                                 psf_ideal.shape[2]))\n",
    "psf_rescaled = psf_rescaled/psf_rescaled.sum()\n",
    "\n",
    "# # Display PSF after resizing for anisotropy\n",
    "# f, axes = plt.subplots(2,2)\n",
    "# (XZ, XY, null, ZY) = axes.flatten()\n",
    "# f.suptitle(\"Gaussian PSF\")\n",
    "\n",
    "# ZY.imshow(psf_rescaled[:,psf_rescaled.shape[1]//2+1,:], cmap=\"gray\", interpolation='none')\n",
    "# ZY.grid(False)\n",
    "# ZY.set_title(\"Central X-slice\")\n",
    "\n",
    "# XZ.imshow(psf_rescaled[:,:,psf_rescaled.shape[2]//2+1].T, cmap=\"gray\", interpolation='none')\n",
    "# XZ.grid(False)\n",
    "# XZ.set_title(\"Central Y-slice\")\n",
    "\n",
    "# XY.imshow(psf_rescaled[psf_rescaled.shape[0]//2+1,:,:], cmap=\"gray\", interpolation='none')\n",
    "# XY.grid(False)\n",
    "# XY.set_title(\"Central Z-slice\")\n",
    "\n",
    "# null.set_axis_off()  # clear unused subplot\n",
    "\n",
    "# plt.tight_layout()\n",
    "# plt.show()"
   ]
  },
  {
   "cell_type": "markdown",
   "metadata": {},
   "source": [
    "<div style=\"background-color:#abd9e9; border-radius: 5px; padding: 10pt\"><strong>Task:</strong> Using the <a href=\"https://scikit-image.org/docs/stable/api/skimage.restoration.html#skimage.restoration.richardson_lucy\"><code>skimage.restoration.richardson_lucy</code></a> function, and in a new cell, deconvolve our 3D image for channel 1 (GFP) with the PSF defined above. Display a region of the central slice before and after convolution.</div>"
   ]
  },
  {
   "cell_type": "markdown",
   "metadata": {},
   "source": [
    "## Segmentation\n",
    "\n",
    "* Here we must introduce the Python concept of Boolean or logical values: i.e. True and False\n",
    "* True and False can be represented in arrays of `dtype` 'logical' or as arrays of 1s and 0s.\n",
    "  * In both cases these are essentailly black and white images and can be displayed and processing as such\n",
    "* There are two groups of thresholding algorithms available in `sciki-image`:\n",
    "  1. Thresholding (found in `skimage.filters`), including Otsu and hysteresis thresholding\n",
    "  2. More complex segmentation algorithms, e.g. active contours and the watershed algorithm (found in `skimage.segmentation`)\n",
    "\n",
    "### Thresholding\n",
    "\n",
    "* Usually we would combine thresholding with pre-processing, e.g. noise reduction or deconvolution, and post-processing, e.g. morphological operations to fill holes and smooth the resulting segmentation."
   ]
  },
  {
   "cell_type": "markdown",
   "metadata": {},
   "source": [
    "<div style=\"background-color:#abd9e9; border-radius: 5px; padding: 10pt\"><strong>Task:</strong> Using the very helpful <a href=\"https://scikit-image.org/docs/stable/api/skimage.filters.html#skimage.filters.try_all_threshold\"><code>skimage.filters.try_all_threshold</code></a> function see what a single slice of our nuclei-labelled channel looks like after different thresholding approaches.</div>"
   ]
  },
  {
   "cell_type": "markdown",
   "metadata": {},
   "source": [
    "<div style=\"background-color:#abd9e9; border-radius: 5px; padding: 10pt\"><strong>Task:</strong> Pick the best segmentation by thresholding from your results and apply morphological (binary) closing, using <a href=\"https://scikit-image.org/docs/stable/api/skimage.morphology.html#skimage.morphology.binary_closing\"><code>skimage.morphology.binary_closing</code></a>, to fill the small holes for a cleaner segmentation.</div>"
   ]
  },
  {
   "cell_type": "markdown",
   "metadata": {},
   "source": [
    "## Extracting Regions of Interest and Features\n",
    "\n",
    "* Once segmented, we often want to measure a variety of features of our objects."
   ]
  },
  {
   "cell_type": "markdown",
   "metadata": {},
   "source": [
    "<div style=\"background-color:#abd9e9; border-radius: 5px; padding: 10pt\"><strong>Task: </strong>In a new cell, use <a href=\"https://scikit-image.org/docs/stable/api/skimage.measure.html\"><code>skimage.measure</code></a> to get the centroid, major and minor axis length, orientation, perimeter and intensity range for cells segmented in the previous task. Can you be sure all the detected objects are cells? Can you easily filter your results to only include those you trust?</div>"
   ]
  },
  {
   "cell_type": "markdown",
   "metadata": {},
   "source": [
    "## Summary\n",
    "\n",
    "* Appreciate the capabilities of `scikit-image` for image processing in a Python environment\n",
    "* Apply known image processing techniques (e.g. smoothing) in a Python environment\n",
    "* Recognise additional image processing techniques (e.g. deconvolution) that are possible in a Python environment\n",
    "* Relate global grayscale thresholding and the logical array to segmentation and binary images\n",
    "* Extract features of objects from segmented images"
   ]
  }
 ],
 "metadata": {
  "kernelspec": {
   "display_name": "Python 3",
   "language": "python",
   "name": "python3"
  },
  "language_info": {
   "codemirror_mode": {
    "name": "ipython",
    "version": 3
   },
   "file_extension": ".py",
   "mimetype": "text/x-python",
   "name": "python",
   "nbconvert_exporter": "python",
   "pygments_lexer": "ipython3",
   "version": "3.7.4"
  },
  "widgets": {
   "application/vnd.jupyter.widget-state+json": {
    "state": {},
    "version_major": 2,
    "version_minor": 0
   }
  }
 },
 "nbformat": 4,
 "nbformat_minor": 4
}
