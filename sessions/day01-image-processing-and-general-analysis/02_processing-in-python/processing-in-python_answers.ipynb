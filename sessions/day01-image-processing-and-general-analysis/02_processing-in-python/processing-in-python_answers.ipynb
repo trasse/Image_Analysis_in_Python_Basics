{
 "cells": [
  {
   "cell_type": "markdown",
   "metadata": {
    "slideshow": {
     "slide_type": "slide"
    }
   },
   "source": [
    "# Image Processing in Python\n",
    "\n",
    "**Part of the IAFIG-RMS *Python for Bioimage Analysis* Course.**\n",
    "\n",
    "*Dr Chas Nelson*\n",
    "\n",
    "2019-12-09 1300--1430"
   ]
  },
  {
   "cell_type": "markdown",
   "metadata": {
    "slideshow": {
     "slide_type": "slide"
    }
   },
   "source": [
    "## Aim\n",
    "\n",
    "To carry out key image processing operations in Python."
   ]
  },
  {
   "cell_type": "markdown",
   "metadata": {
    "slideshow": {
     "slide_type": "subslide"
    }
   },
   "source": [
    "## ILOs\n",
    "\n",
    "* Appreciate the capabilities of `scikit-image` for image processing in a Python environment\n",
    "* Apply known image processing techniques (e.g. smoothing) in a Python environment\n",
    "* Recognise additional image processing techniques (e.g. deconvolution) that are possible in a Python environment\n",
    "* Relate global grayscale thresholding and the logical array to segmentation and binary images\n",
    "* Extract features of objects from segmented images"
   ]
  },
  {
   "cell_type": "markdown",
   "metadata": {},
   "source": [
    "## Imports"
   ]
  },
  {
   "cell_type": "code",
   "execution_count": null,
   "metadata": {},
   "outputs": [],
   "source": [
    "%matplotlib widget\n",
    "import numpy as np\n",
    "import matplotlib.pyplot as plt\n",
    "import seaborn as sns; sns.set()\n",
    "import ipywidgets as widgets\n",
    "import IPython.display as ipyd\n",
    "from skimage import io"
   ]
  },
  {
   "cell_type": "markdown",
   "metadata": {},
   "source": [
    "## Data\n",
    "\n",
    "The image we will use for the rest of this tutorial is from the Broad Bioimage Benchmark Collection data set BBBC0034v1 (https://data.broadinstitute.org/bbbc/; Thirstrup et al. 2018).\n",
    "\n",
    "See https://data.broadinstitute.org/bbbc/BBBC034/ for the full description; however, the key points are:\n",
    "\n",
    "* $1024 \\times 1024 \\times 52$ pixels\n",
    "* $65 \\times 65 \\times 290$ nm/pixel\n",
    "* 4 channels (each stored as separate files):\n",
    "  * Cell membrane label (C=0)\n",
    "  * Actin label (C=1)\n",
    "  * DNA label (C=2)\n",
    "  * Brightfield image (C=3)\n",
    "  \n",
    "The below cell can be run to create a local link to the data that we downloaded in the previous session. You only need to run this cell once and then you may comment it out."
   ]
  },
  {
   "cell_type": "code",
   "execution_count": null,
   "metadata": {},
   "outputs": [],
   "source": [
    "# import os\n",
    "\n",
    "# os.symlink('../../01_images-in-python/assets/bbbc034v1','./assets/bbbc034v1')"
   ]
  },
  {
   "cell_type": "markdown",
   "metadata": {},
   "source": [
    "## Contrast and Histogram Equalisation\n",
    "\n",
    "* As previously mentioned, image data may not spread across the whole bit-depth (`dtype`) of an image (array).\n",
    "* The submodule `skimage.exposure` provides a range of functions for spreading an image's intensity over the full range.\n",
    "* The simplest approach to this is to rescale the intensity levels."
   ]
  },
  {
   "cell_type": "code",
   "execution_count": null,
   "metadata": {},
   "outputs": [],
   "source": [
    "# Read a multidimensional TIF file, in this case a single channel with multiple z-slices.\n",
    "myStack = io.imread('./assets/bbbc034v1/AICS_12_134_C=1.tif')\n",
    "\n",
    "# Metadata for future use later\n",
    "x_pixel_size = 65  # nm\n",
    "y_pixel_size = 65  # nm\n",
    "z_pixel_size = 290  # nm\n",
    "\n",
    "# Take single slice\n",
    "mySlice = myStack[26,:,:]"
   ]
  },
  {
   "cell_type": "markdown",
   "metadata": {},
   "source": [
    "<div style=\"background-color:#abd9e9; border-radius: 5px; padding: 10pt\"><strong>Task:</strong> Create a new cell below and use the <a href='https://scikit-image.org/docs/stable/api/skimage.exposure.html#skimage.exposure.rescale_intensity'><code>skimage.exposure.rescale_intensity()</code></a> function to rescale `mySlice` from 16-bit (assume it uses the full range) to 8-bit values. Check that the np array dtype is correct. Plot the two images side by side and their histograms beneath.</div>"
   ]
  },
  {
   "cell_type": "code",
   "execution_count": null,
   "metadata": {},
   "outputs": [],
   "source": [
    "from skimage import exposure  # import the submodule first\n",
    "\n",
    "myRescaledSlice = exposure.rescale_intensity(mySlice,in_range='uint16',out_range='uint8')  # rescale, as per the documentation and on-line examples\n",
    "\n",
    "display(myRescaledSlice.dtype)  # will be uint16 because the output array is the same dtype as input (see documentation)\n",
    "\n",
    "myRescaledSlice = myRescaledSlice.astype('uint8')  # convert dtype to uint8\n",
    "\n",
    "display(myRescaledSlice.dtype)  # will be uint8 now\n",
    "\n",
    "# Plot both images and their histograms\n",
    "f, axes = plt.subplots(2,2)\n",
    "(iO, iS, hO, hS) = axes.flatten()\n",
    "\n",
    "iO.imshow(mySlice, cmap=\"gray\", interpolation='none')\n",
    "iO.grid(False)\n",
    "iO.set_title(\"Original\")\n",
    "\n",
    "sns.distplot(mySlice.flatten(),kde=False,ax=hO)\n",
    "hO.set_xlabel('Pixel Value')\n",
    "hO.set_ylabel('Count')\n",
    "\n",
    "iS.imshow(myRescaledSlice,  cmap=\"gray\", interpolation='none')\n",
    "iS.grid(False)\n",
    "iS.set_title(\"Rescaled\")\n",
    "\n",
    "sns.distplot(myRescaledSlice.flatten(),kde=False,ax=hS)\n",
    "hS.set_xlabel('Pixel Value')\n",
    "\n",
    "plt.show()"
   ]
  },
  {
   "cell_type": "markdown",
   "metadata": {},
   "source": [
    "<div style=\"background-color:#abd9e9; border-radius: 5px; padding: 10pt\"><strong>Task:</strong> Now create a new cell below and map the data to the full 16-bit range. Check that the np array dtype is correct. Plot the two images side by side (use a full 16-bit colour mapping) and their histograms beneath.</div>"
   ]
  },
  {
   "cell_type": "code",
   "execution_count": null,
   "metadata": {},
   "outputs": [],
   "source": [
    "myFullDRSlice = exposure.rescale_intensity(mySlice,in_range='image',out_range='uint16')  # now rescale using the image min and max (see documentation for in_range and 'image')\n",
    "\n",
    "# Plot both images and their histograms\n",
    "f, axes = plt.subplots(2,2)\n",
    "(iO, iS, hO, hS) = axes.flatten()\n",
    "\n",
    "iO.imshow(mySlice, cmap=\"gray\", vmin=0, vmax=(2**16)-1, interpolation='none')\n",
    "iO.grid(False)\n",
    "iO.set_title(\"Original\")\n",
    "\n",
    "sns.distplot(mySlice.flatten(),bins=np.arange(0,(2**16)-1,2**8),kde=False,ax=hO)\n",
    "hO.set_xlim([0,(2**16)-1])\n",
    "hO.set_xlabel('Pixel Value')\n",
    "hO.set_ylabel('Count')\n",
    "\n",
    "iS.imshow(myFullDRSlice,  cmap=\"gray\", vmin=0, vmax=(2**16)-1, interpolation='none')\n",
    "iS.grid(False)\n",
    "iS.set_title(\"Full Dynamic Range\")\n",
    "\n",
    "sns.distplot(myFullDRSlice.flatten(),bins=np.arange(0,(2**16)-1,2**8),kde=False,ax=hS)\n",
    "hS.set_xlim([0,(2**16)-1])\n",
    "hS.set_xlabel('Pixel Value')\n",
    "hS.set_ylim([0,400000])\n",
    "\n",
    "\n",
    "plt.show()"
   ]
  },
  {
   "cell_type": "markdown",
   "metadata": {},
   "source": [
    "<div style=\"background-color:#abd9e9; border-radius: 5px; padding: 10pt\"><strong>Task:</strong> Now create a new cell below and, using the codes above and the following tutorial, create a figure howing the original image, constrast stretched image, histogram equalised image and adaptive histogram equalised image, all with their histograms. You can find the tutorial at: <a href=\"https://scikit-image.org/docs/stable/auto_examples/color_exposure/plot_equalize.html#sphx-glr-auto-examples-color-exposure-plot-equalize-py\">https://scikit-image.org/docs/stable/auto_examples/color_exposure/plot_equalize.html#sphx-glr-auto-examples-color-exposure-plot-equalize-py</a>.</div>"
   ]
  },
  {
   "cell_type": "code",
   "execution_count": 6,
   "metadata": {},
   "outputs": [],
   "source": [
    "# Contrast stretching (stretch histogram so top and bottom 2% are saturated black/white)\n",
    "p2, p98 = np.percentile(mySlice, (2, 98))\n",
    "myCSSlice = exposure.rescale_intensity(mySlice, in_range=(p2, p98))\n",
    "\n",
    "# [Global] Histogram Equalization\n",
    "myEqualisedSlice = exposure.equalize_hist(mySlice)\n",
    "\n",
    "# [Local] Adaptive Equalization, e.g. CLAHE\n",
    "myAESlice = exposure.equalize_adapthist(mySlice, clip_limit=0.03)\n",
    "\n",
    "# Display results and histograms\n",
    "f, axes = plt.subplots(2,4)\n",
    "(iO, iR, iE, iA, hO, hR, hE, hA) = axes.flatten()\n",
    "\n",
    "iO.imshow(mySlice, cmap=\"gray\", interpolation='none')\n",
    "iO.set_axis_off()\n",
    "iO.set_title(\"Original\")\n",
    "\n",
    "sns.distplot(mySlice.flatten(),kde=False,ax=hO)\n",
    "hO.set_xlabel('Pixel Value')\n",
    "hO.set_ylabel('Count')\n",
    "hO.ticklabel_format(axis='y', style='scientific', scilimits=(0, 0))\n",
    "\n",
    "iR.imshow(myCSSlice,  cmap=\"gray\", interpolation='none')\n",
    "iR.set_axis_off()\n",
    "iR.set_title(\"Contrast Stretched\")\n",
    "\n",
    "sns.distplot(myCSSlice.flatten(),kde=False,ax=hR)\n",
    "hR.set_xlabel('Pixel Value')\n",
    "hR.ticklabel_format(axis='y', style='scientific', scilimits=(0, 0))\n",
    "\n",
    "iE.imshow(myEqualisedSlice,  cmap=\"gray\", interpolation='none')\n",
    "iE.set_axis_off()\n",
    "iE.set_title(\"Histogram Equalisation\")\n",
    "\n",
    "sns.distplot(myEqualisedSlice.flatten(),kde=False,ax=hE)\n",
    "hE.set_xlabel('Pixel Value')\n",
    "hE.ticklabel_format(axis='y', style='scientific', scilimits=(0, 0))\n",
    "\n",
    "iA.imshow(myAESlice,  cmap=\"gray\", interpolation='none')\n",
    "iA.set_axis_off()\n",
    "iA.set_title(\"Adaptive Equalisation\")\n",
    "\n",
    "sns.distplot(myAESlice.flatten(),kde=False,ax=hA)\n",
    "hA.set_xlabel('Pixel Value')\n",
    "hA.ticklabel_format(axis='y', style='scientific', scilimits=(0, 0))\n",
    "\n",
    "plt.show()"
   ]
  },
  {
   "cell_type": "markdown",
   "metadata": {},
   "source": [
    "## Image Filtering\n",
    "\n",
    "* Many image processing tasks include filtering, either in the spatial or frequency domain.\n",
    "* Again, `scitkit-image` has many of these filters built in to the submodule `scikit-image.filters`."
   ]
  },
  {
   "cell_type": "markdown",
   "metadata": {},
   "source": [
    "<div style=\"background-color:#abd9e9; border-radius: 5px; padding: 10pt\"><strong>Task:</strong> Using the <a href=\"https://scikit-image.org/docs/stable/api/skimage.filters.html\"><code>skimage.filters</code></a> submodule create a figure with a crop of the original slice (256-by-256 pixels, centred) and the results of applying a Gaussian blue; median filter; unsharp mask; sobel edge filter; and Meijering neuriteness ridge oeprator of the cropped region.</div>"
   ]
  },
  {
   "cell_type": "code",
   "execution_count": 7,
   "metadata": {},
   "outputs": [
    {
     "data": {
      "application/vnd.jupyter.widget-view+json": {
       "model_id": "537d046bfdf747dc8884e8e47c95d93b",
       "version_major": 2,
       "version_minor": 0
      },
      "text/plain": [
       "Canvas(toolbar=Toolbar(toolitems=[('Home', 'Reset original view', 'home', 'home'), ('Back', 'Back to previous …"
      ]
     },
     "metadata": {},
     "output_type": "display_data"
    }
   ],
   "source": [
    "from skimage import filters  # need to import filters submodule\n",
    "\n",
    "# Crop a 256 by 256 grid centred in the image (no need to understand this line but it could be useful)\n",
    "idx = tuple(np.meshgrid(np.arange(-128,128) + (mySlice.shape[0]//2),np.arange(-128,128) + (mySlice.shape[1]//2)))\n",
    "myCrop = mySlice[idx]  # crop\n",
    "\n",
    "# Gaussian Blur (with default kernel)\n",
    "myGBSlice = filters.gaussian(myCrop)\n",
    "\n",
    "# Median Filter (with default selem, i.e. Structuring ELEMent - similar to a kernel)\n",
    "myMFSlice = filters.median(myCrop)\n",
    "\n",
    "# Unsharp Mask with chosen radius (in pixels)\n",
    "myUMSlice = filters.unsharp_mask(myCrop,radius=4.0)\n",
    "\n",
    "# Sobel Edge Filter\n",
    "mySESlice = filters.sobel(myCrop)\n",
    "\n",
    "# Meijering Vesselness with user-chosen parameters\n",
    "myMNSlice = filters.meijering(myCrop,sigmas=range(1,5),black_ridges=False)  # note: probably best to pad and unpad to remove edge artifacts\n",
    "\n",
    "# Display results\n",
    "f, axes = plt.subplots(2,3)\n",
    "(iO, iG, iM, iU, iS, iF) = axes.flatten()\n",
    "\n",
    "iO.imshow(myCrop, cmap=\"gray\", interpolation='none')\n",
    "iO.set_axis_off()\n",
    "iO.set_title(\"Original\")\n",
    "\n",
    "iG.imshow(myGBSlice,  cmap=\"gray\", interpolation='none')\n",
    "iG.set_axis_off()\n",
    "iG.set_title(\"Gaussian Blur\")\n",
    "\n",
    "iM.imshow(myMFSlice,  cmap=\"gray\", interpolation='none')\n",
    "iM.set_axis_off()\n",
    "iM.set_title(\"Median Filter\")\n",
    "\n",
    "iU.imshow(myUMSlice,  cmap=\"gray\", interpolation='none')\n",
    "iU.set_axis_off()\n",
    "iU.set_title(\"Unsharp Mask\")\n",
    "\n",
    "iS.imshow(mySESlice,  cmap=\"gray\", interpolation='none')\n",
    "iS.set_axis_off()\n",
    "iS.set_title(\"Sobel Filter\")\n",
    "\n",
    "iF.imshow(myMNSlice,  cmap=\"gray\", interpolation='none')\n",
    "iF.set_axis_off()\n",
    "iF.set_title(\"Meijering Neuriteness\")\n",
    "\n",
    "plt.show()"
   ]
  },
  {
   "cell_type": "markdown",
   "metadata": {},
   "source": [
    "## Deconvolution\n",
    "\n",
    "* One common operation in microscopy that takes place in the frequency domain is deconvolution.\n",
    "* `scitkit-image.restoration` has a variety of denoising and deconvolution algorithms, including a Richardson-Lucy implementation."
   ]
  },
  {
   "cell_type": "code",
   "execution_count": 8,
   "metadata": {},
   "outputs": [
    {
     "data": {
      "application/vnd.jupyter.widget-view+json": {
       "model_id": "09a94d2edddf4f839fe4cbd64f879ca7",
       "version_major": 2,
       "version_minor": 0
      },
      "text/plain": [
       "Canvas(toolbar=Toolbar(toolitems=[('Home', 'Reset original view', 'home', 'home'), ('Back', 'Back to previous …"
      ]
     },
     "metadata": {},
     "output_type": "display_data"
    }
   ],
   "source": [
    "import psf  # this is a new package that works out a mathematical PSF, but a measured PSF could also be used\n",
    "from skimage import transform  # import this submodule to rescale the PSF (to account for anisotropy in z)\n",
    "\n",
    "sz = 11\n",
    "args = {\n",
    "    'shape': (sz, sz),  # size of calculated psf array in pixels\n",
    "    'dims': (x_pixel_size/1000*sz, y_pixel_size/1000*sz),  # size of array in microns\n",
    "    'em_wavelen': 520.0,  # emission wavelength in nanometers\n",
    "    'num_aperture': 1.25,  # numerical aperture\n",
    "    'refr_index': 1.333,  # refractive index\n",
    "    'magnification': 100,  # magnification\n",
    "}\n",
    "\n",
    "gauss = psf.PSF(psf.GAUSSIAN | psf.EMISSION, **args)\n",
    "\n",
    "psf_ideal = gauss.volume()\n",
    "\n",
    "# # Uncomment to display PSF before resizing for anisotropy\n",
    "# f, axes = plt.subplots(2,2)\n",
    "# (XZ, XY, null, ZY) = axes.flatten()\n",
    "# f.suptitle(\"Gaussian PSF\")\n",
    "\n",
    "# ZY.imshow(psf_ideal[:,sz,:], cmap=\"gray\", interpolation='none')\n",
    "# ZY.grid(False)\n",
    "# ZY.set_title(\"Central X-slice\")\n",
    "\n",
    "# XZ.imshow(psf_ideal[:,:,sz].T, cmap=\"gray\", interpolation='none')\n",
    "# XZ.grid(False)\n",
    "# XZ.set_title(\"Central Y-slice\")\n",
    "\n",
    "# XY.imshow(psf_ideal[sz,:,:], cmap=\"gray\", interpolation='none')\n",
    "# XY.grid(False)\n",
    "# XY.set_title(\"Central Z-slice\")\n",
    "\n",
    "# null.set_axis_off()  # clear unused subplot\n",
    "\n",
    "# plt.tight_layout()\n",
    "# plt.show()\n",
    "\n",
    "# Resize for anisotropy of our image (this is a bit rough and can be done better - but it works for this example)\n",
    "psf_rescaled = transform.resize(psf_ideal,\n",
    "                                (np.ceil(psf_ideal.shape[0]*(x_pixel_size/z_pixel_size)),\n",
    "                                 psf_ideal.shape[1],\n",
    "                                 psf_ideal.shape[2]))\n",
    "psf_rescaled = psf_rescaled/psf_rescaled.sum()\n",
    "\n",
    "# Display PSF after resizing for anisotropy\n",
    "f, axes = plt.subplots(2,2)\n",
    "(XZ, XY, null, ZY) = axes.flatten()\n",
    "f.suptitle(\"Gaussian PSF\")\n",
    "\n",
    "ZY.imshow(psf_rescaled[:,psf_rescaled.shape[1]//2+1,:], cmap=\"gray\", interpolation='none')\n",
    "ZY.grid(False)\n",
    "ZY.set_title(\"Central X-slice\")\n",
    "\n",
    "XZ.imshow(psf_rescaled[:,:,psf_rescaled.shape[2]//2+1].T, cmap=\"gray\", interpolation='none')\n",
    "XZ.grid(False)\n",
    "XZ.set_title(\"Central Y-slice\")\n",
    "\n",
    "XY.imshow(psf_rescaled[psf_rescaled.shape[0]//2+1,:,:], cmap=\"gray\", interpolation='none')\n",
    "XY.grid(False)\n",
    "XY.set_title(\"Central Z-slice\")\n",
    "\n",
    "null.set_axis_off()  # clear unused subplot\n",
    "\n",
    "plt.tight_layout()\n",
    "plt.show()"
   ]
  },
  {
   "cell_type": "markdown",
   "metadata": {},
   "source": [
    "<div style=\"background-color:#abd9e9; border-radius: 5px; padding: 10pt\"><strong>Task:</strong> Using the <a href=\"https://scikit-image.org/docs/stable/api/skimage.restoration.html#skimage.restoration.richardson_lucy\"><code>skimage.restoration.richardson_lucy</code></a> function, and in a new cell, deconvolve our 3D image for channel 1 (GFP) with the PSF defined above. Display a region of the central slice before and after convolution.</div>"
   ]
  },
  {
   "cell_type": "code",
   "execution_count": 9,
   "metadata": {},
   "outputs": [
    {
     "data": {
      "application/vnd.jupyter.widget-view+json": {
       "model_id": "1bc2213d5f7741e6b0ac574064c1954e",
       "version_major": 2,
       "version_minor": 0
      },
      "text/plain": [
       "Canvas(toolbar=Toolbar(toolitems=[('Home', 'Reset original view', 'home', 'home'), ('Back', 'Back to previous …"
      ]
     },
     "metadata": {},
     "output_type": "display_data"
    },
    {
     "name": "stdout",
     "output_type": "stream",
     "text": [
      "Running time: 153.52439165115356 s\n"
     ]
    }
   ],
   "source": [
    "import time  # so that we can time the deconvolution\n",
    "from skimage import restoration  # import submodule that contains deconvolution algorithms\n",
    "\n",
    "t = time.time()\n",
    "# Restore Image using Richardson-Lucy algorithm\n",
    "myFloatStack = myStack.astype('float64')/myStack.max()  # normalise and convert to float (needed for deconvolution with our PSF generated above)\n",
    "deconvolved_RL = restoration.richardson_lucy(myStack.astype('float')/((2**16)-1), psf_rescaled, iterations=10)  # deconvolve\n",
    "\n",
    "# Pick a small central region to plot\n",
    "idx = np.meshgrid(myStack.shape[0]//2,np.arange(-128,128) + (myStack.shape[1]//2),np.arange(-128,128) + (myStack.shape[2]//2),indexing='ij')\n",
    "idx = tuple([np.squeeze(idx[0]),np.squeeze(idx[1]),np.squeeze(idx[2])])\n",
    "\n",
    "# Plot original and deconvolved image (just region defined above)\n",
    "f, axes = plt.subplots(1,2)\n",
    "(aO, aD) = axes.flatten()\n",
    "\n",
    "aO.imshow(myStack[idx], cmap='gray')\n",
    "aO.grid(False)\n",
    "aO.set_title('Original Image')\n",
    "\n",
    "aD.imshow(deconvolved_RL[idx], cmap='gray')\n",
    "aD.grid(False)\n",
    "aD.set_title('Richardson-Lucy Deconvolved')\n",
    "\n",
    "plt.show()\n",
    "\n",
    "print('Running time: {0} s'.format(time.time()-t))"
   ]
  },
  {
   "cell_type": "markdown",
   "metadata": {},
   "source": [
    "## Segmentation\n",
    "\n",
    "* Here we must introduce the Python concept of Boolean or logical values: i.e. True and False\n",
    "* True and False can be represented in arrays of `dtype` 'logical' or as arrays of 1s and 0s.\n",
    "  * In both cases these are essentailly black and white images and can be displayed and processing as such\n",
    "* There are two groups of thresholding algorithms available in `sciki-image`:\n",
    "  1. Thresholding (found in `skimage.filters`), including Otsu and hysteresis thresholding\n",
    "  2. More complex segmentation algorithms, e.g. active contours and the watershed algorithm (found in `skimage.segmentation`)\n",
    "\n",
    "### Thresholding\n",
    "\n",
    "* Usually we would combine thresholding with pre-processing, e.g. noise reduction or deconvolution, and post-processing, e.g. morphological operations to fill holes and smooth the resulting segmentation."
   ]
  },
  {
   "cell_type": "markdown",
   "metadata": {},
   "source": [
    "<div style=\"background-color:#abd9e9; border-radius: 5px; padding: 10pt\"><strong>Task:</strong> Using the very helpful <a href=\"https://scikit-image.org/docs/stable/api/skimage.filters.html#skimage.filters.try_all_threshold\"><code>skimage.filters.try_all_threshold</code></a> function see what a single slice of our nuclei-labelled channel looks like after different thresholding approaches.</div>"
   ]
  },
  {
   "cell_type": "code",
   "execution_count": 10,
   "metadata": {},
   "outputs": [
    {
     "data": {
      "application/vnd.jupyter.widget-view+json": {
       "model_id": "27eb404660414b70bde74734aa1391d7",
       "version_major": 2,
       "version_minor": 0
      },
      "text/plain": [
       "Canvas(toolbar=Toolbar(toolitems=[('Home', 'Reset original view', 'home', 'home'), ('Back', 'Back to previous …"
      ]
     },
     "metadata": {},
     "output_type": "display_data"
    }
   ],
   "source": [
    "# Read a multidimensional TIF file, in this case a single channel with multiple z-slices.\n",
    "myNucleiStack = io.imread('./assets/bbbc034v1/AICS_12_134_C=2.tif')\n",
    "myNucleiSlice = myNucleiStack[myNucleiStack.shape[0]//2,:,:].astype('float64') # take central slice and make float\n",
    "\n",
    "# Cropped area for viewing\n",
    "idx = tuple(np.meshgrid(np.arange(-256,256) + (myNucleiSlice.shape[0]//2),np.arange(-256,256) + (myNucleiSlice.shape[0]//2),indexing='ij'))  # identify a central area for viewing\n",
    "# idx = tuple([np.squeeze(idx[0]),np.squeeze(idx[1])])\n",
    "\n",
    "# Normalise to use full range between 0.0 and 1.0 (allowing for the fact we have a couple of very bright spots in this place)\n",
    "p2, p98 = np.percentile(myNucleiSlice, (2, 98))\n",
    "myNucleiSlice = exposure.rescale_intensity(myNucleiSlice, in_range=(p2, p98), out_range=(0.0,1.0)).astype('float64')\n",
    "\n",
    "# Use SciKit-Image's built-in function\n",
    "f, axes = filters.try_all_threshold(myNucleiSlice[idx],verbose=False)\n",
    "\n",
    "plt.show()"
   ]
  },
  {
   "cell_type": "markdown",
   "metadata": {},
   "source": [
    "<div style=\"background-color:#abd9e9; border-radius: 5px; padding: 10pt\"><strong>Task:</strong> Pick the best segmentation by thresholding from your results and apply morphological (binary) closing, using <a href=\"https://scikit-image.org/docs/stable/api/skimage.morphology.html#skimage.morphology.binary_closing\"><code>skimage.morphology.binary_closing</code></a>, to fill the small holes for a cleaner segmentation.</div>"
   ]
  },
  {
   "cell_type": "code",
   "execution_count": 11,
   "metadata": {},
   "outputs": [
    {
     "name": "stdout",
     "output_type": "stream",
     "text": [
      "Thresholding at 0.412109375/1.0\n"
     ]
    },
    {
     "data": {
      "application/vnd.jupyter.widget-view+json": {
       "model_id": "fb725c5b80954e20ac37a10665faad84",
       "version_major": 2,
       "version_minor": 0
      },
      "text/plain": [
       "Canvas(toolbar=Toolbar(toolitems=[('Home', 'Reset original view', 'home', 'home'), ('Back', 'Back to previous …"
      ]
     },
     "metadata": {},
     "output_type": "display_data"
    }
   ],
   "source": [
    "from skimage import morphology  # import morphology submodule for closing\n",
    "\n",
    "# Use thresholding based on Otsu's method\n",
    "thresh = filters.threshold_otsu(myNucleiSlice)  # get threshold value\n",
    "print('Thresholding at {0}/{1}'.format(thresh,myNucleiSlice.max()))\n",
    "myBinary = myNucleiSlice > thresh  # make binary (segmented) image using threshold value\n",
    "\n",
    "# Close (see https://imagej.net/MorphoLibJ#Morphological_filters if you're not comfortable with morphological operations)\n",
    "myClosedBinary = morphology.binary_closing(myBinary,selem=morphology.disk(2))\n",
    "\n",
    "# Plot\n",
    "f, axes = plt.subplots(1,3)\n",
    "(aO, aB, aC) = axes.flatten()\n",
    "\n",
    "aO.imshow(myNucleiSlice[idx], cmap='gray')\n",
    "aO.grid(False)\n",
    "aO.set_title('Original Image')\n",
    "\n",
    "aB.imshow(myBinary[idx], cmap='gray')  # Python can still apply colour maps to logical arrays\n",
    "aB.grid(False)\n",
    "aB.set_title('Binary Imaged')\n",
    "\n",
    "aC.imshow(myClosedBinary[idx], cmap='gray')\n",
    "aC.grid(False)\n",
    "aC.set_title('After Closing')\n",
    "\n",
    "plt.show()"
   ]
  },
  {
   "cell_type": "markdown",
   "metadata": {},
   "source": [
    "## Extracting Regions of Interest and Features\n",
    "\n",
    "* Once segmented, we often want to measure a variety of features of our objects."
   ]
  },
  {
   "cell_type": "markdown",
   "metadata": {},
   "source": [
    "<div style=\"background-color:#abd9e9; border-radius: 5px; padding: 10pt\"><strong>Task: </strong>In a new cell, use <a href=\"https://scikit-image.org/docs/stable/api/skimage.measure.html\"><code>skimage.measure</code></a> to get the centroid, major and minor axis length, orientation, perimeter and intensity range for cells segmented in the previous task. Can you be sure all the detected objects are cells? Can you easily filter your results to only include those you trust?</div>"
   ]
  },
  {
   "cell_type": "code",
   "execution_count": 12,
   "metadata": {},
   "outputs": [
    {
     "name": "stdout",
     "output_type": "stream",
     "text": [
      "Found 3658 objects:\n"
     ]
    },
    {
     "data": {
      "text/html": [
       "<div>\n",
       "<style scoped>\n",
       "    .dataframe tbody tr th:only-of-type {\n",
       "        vertical-align: middle;\n",
       "    }\n",
       "\n",
       "    .dataframe tbody tr th {\n",
       "        vertical-align: top;\n",
       "    }\n",
       "\n",
       "    .dataframe thead th {\n",
       "        text-align: right;\n",
       "    }\n",
       "</style>\n",
       "<table border=\"1\" class=\"dataframe\">\n",
       "  <thead>\n",
       "    <tr style=\"text-align: right;\">\n",
       "      <th></th>\n",
       "      <th>label</th>\n",
       "      <th>area</th>\n",
       "      <th>centroid-0</th>\n",
       "      <th>centroid-1</th>\n",
       "      <th>major_axis_length</th>\n",
       "      <th>minor_axis_length</th>\n",
       "      <th>max_intensity</th>\n",
       "      <th>min_intensity</th>\n",
       "      <th>mean_intensity</th>\n",
       "      <th>orientation</th>\n",
       "      <th>perimeter</th>\n",
       "    </tr>\n",
       "  </thead>\n",
       "  <tbody>\n",
       "    <tr>\n",
       "      <th>3093</th>\n",
       "      <td>3094</td>\n",
       "      <td>1</td>\n",
       "      <td>871</td>\n",
       "      <td>581</td>\n",
       "      <td>0.0</td>\n",
       "      <td>0.0</td>\n",
       "      <td>0.450980</td>\n",
       "      <td>0.450980</td>\n",
       "      <td>0.450980</td>\n",
       "      <td>0.785398</td>\n",
       "      <td>0.0</td>\n",
       "    </tr>\n",
       "    <tr>\n",
       "      <th>2980</th>\n",
       "      <td>2981</td>\n",
       "      <td>1</td>\n",
       "      <td>851</td>\n",
       "      <td>399</td>\n",
       "      <td>0.0</td>\n",
       "      <td>0.0</td>\n",
       "      <td>0.450980</td>\n",
       "      <td>0.450980</td>\n",
       "      <td>0.450980</td>\n",
       "      <td>0.785398</td>\n",
       "      <td>0.0</td>\n",
       "    </tr>\n",
       "    <tr>\n",
       "      <th>3519</th>\n",
       "      <td>3520</td>\n",
       "      <td>1</td>\n",
       "      <td>990</td>\n",
       "      <td>249</td>\n",
       "      <td>0.0</td>\n",
       "      <td>0.0</td>\n",
       "      <td>0.431373</td>\n",
       "      <td>0.431373</td>\n",
       "      <td>0.431373</td>\n",
       "      <td>0.785398</td>\n",
       "      <td>0.0</td>\n",
       "    </tr>\n",
       "    <tr>\n",
       "      <th>197</th>\n",
       "      <td>198</td>\n",
       "      <td>1</td>\n",
       "      <td>41</td>\n",
       "      <td>0</td>\n",
       "      <td>0.0</td>\n",
       "      <td>0.0</td>\n",
       "      <td>0.529412</td>\n",
       "      <td>0.529412</td>\n",
       "      <td>0.529412</td>\n",
       "      <td>0.785398</td>\n",
       "      <td>0.0</td>\n",
       "    </tr>\n",
       "    <tr>\n",
       "      <th>2299</th>\n",
       "      <td>2300</td>\n",
       "      <td>1</td>\n",
       "      <td>648</td>\n",
       "      <td>474</td>\n",
       "      <td>0.0</td>\n",
       "      <td>0.0</td>\n",
       "      <td>0.509804</td>\n",
       "      <td>0.509804</td>\n",
       "      <td>0.509804</td>\n",
       "      <td>0.785398</td>\n",
       "      <td>0.0</td>\n",
       "    </tr>\n",
       "    <tr>\n",
       "      <th>862</th>\n",
       "      <td>863</td>\n",
       "      <td>1</td>\n",
       "      <td>242</td>\n",
       "      <td>238</td>\n",
       "      <td>0.0</td>\n",
       "      <td>0.0</td>\n",
       "      <td>0.431373</td>\n",
       "      <td>0.431373</td>\n",
       "      <td>0.431373</td>\n",
       "      <td>0.785398</td>\n",
       "      <td>0.0</td>\n",
       "    </tr>\n",
       "    <tr>\n",
       "      <th>1351</th>\n",
       "      <td>1352</td>\n",
       "      <td>1</td>\n",
       "      <td>372</td>\n",
       "      <td>642</td>\n",
       "      <td>0.0</td>\n",
       "      <td>0.0</td>\n",
       "      <td>0.450980</td>\n",
       "      <td>0.450980</td>\n",
       "      <td>0.450980</td>\n",
       "      <td>0.785398</td>\n",
       "      <td>0.0</td>\n",
       "    </tr>\n",
       "    <tr>\n",
       "      <th>766</th>\n",
       "      <td>767</td>\n",
       "      <td>1</td>\n",
       "      <td>220</td>\n",
       "      <td>215</td>\n",
       "      <td>0.0</td>\n",
       "      <td>0.0</td>\n",
       "      <td>0.509804</td>\n",
       "      <td>0.509804</td>\n",
       "      <td>0.509804</td>\n",
       "      <td>0.785398</td>\n",
       "      <td>0.0</td>\n",
       "    </tr>\n",
       "    <tr>\n",
       "      <th>2572</th>\n",
       "      <td>2573</td>\n",
       "      <td>1</td>\n",
       "      <td>720</td>\n",
       "      <td>890</td>\n",
       "      <td>0.0</td>\n",
       "      <td>0.0</td>\n",
       "      <td>0.431373</td>\n",
       "      <td>0.431373</td>\n",
       "      <td>0.431373</td>\n",
       "      <td>0.785398</td>\n",
       "      <td>0.0</td>\n",
       "    </tr>\n",
       "    <tr>\n",
       "      <th>2710</th>\n",
       "      <td>2711</td>\n",
       "      <td>1</td>\n",
       "      <td>789</td>\n",
       "      <td>355</td>\n",
       "      <td>0.0</td>\n",
       "      <td>0.0</td>\n",
       "      <td>0.431373</td>\n",
       "      <td>0.431373</td>\n",
       "      <td>0.431373</td>\n",
       "      <td>0.785398</td>\n",
       "      <td>0.0</td>\n",
       "    </tr>\n",
       "  </tbody>\n",
       "</table>\n",
       "</div>"
      ],
      "text/plain": [
       "      label  area  centroid-0  centroid-1  major_axis_length  \\\n",
       "3093   3094     1         871         581                0.0   \n",
       "2980   2981     1         851         399                0.0   \n",
       "3519   3520     1         990         249                0.0   \n",
       "197     198     1          41           0                0.0   \n",
       "2299   2300     1         648         474                0.0   \n",
       "862     863     1         242         238                0.0   \n",
       "1351   1352     1         372         642                0.0   \n",
       "766     767     1         220         215                0.0   \n",
       "2572   2573     1         720         890                0.0   \n",
       "2710   2711     1         789         355                0.0   \n",
       "\n",
       "      minor_axis_length  max_intensity  min_intensity  mean_intensity  \\\n",
       "3093                0.0       0.450980       0.450980        0.450980   \n",
       "2980                0.0       0.450980       0.450980        0.450980   \n",
       "3519                0.0       0.431373       0.431373        0.431373   \n",
       "197                 0.0       0.529412       0.529412        0.529412   \n",
       "2299                0.0       0.509804       0.509804        0.509804   \n",
       "862                 0.0       0.431373       0.431373        0.431373   \n",
       "1351                0.0       0.450980       0.450980        0.450980   \n",
       "766                 0.0       0.509804       0.509804        0.509804   \n",
       "2572                0.0       0.431373       0.431373        0.431373   \n",
       "2710                0.0       0.431373       0.431373        0.431373   \n",
       "\n",
       "      orientation  perimeter  \n",
       "3093     0.785398        0.0  \n",
       "2980     0.785398        0.0  \n",
       "3519     0.785398        0.0  \n",
       "197      0.785398        0.0  \n",
       "2299     0.785398        0.0  \n",
       "862      0.785398        0.0  \n",
       "1351     0.785398        0.0  \n",
       "766      0.785398        0.0  \n",
       "2572     0.785398        0.0  \n",
       "2710     0.785398        0.0  "
      ]
     },
     "metadata": {},
     "output_type": "display_data"
    },
    {
     "name": "stdout",
     "output_type": "stream",
     "text": [
      "Filtered to keep 31 objects:\n"
     ]
    },
    {
     "data": {
      "text/html": [
       "<div>\n",
       "<style scoped>\n",
       "    .dataframe tbody tr th:only-of-type {\n",
       "        vertical-align: middle;\n",
       "    }\n",
       "\n",
       "    .dataframe tbody tr th {\n",
       "        vertical-align: top;\n",
       "    }\n",
       "\n",
       "    .dataframe thead th {\n",
       "        text-align: right;\n",
       "    }\n",
       "</style>\n",
       "<table border=\"1\" class=\"dataframe\">\n",
       "  <thead>\n",
       "    <tr style=\"text-align: right;\">\n",
       "      <th></th>\n",
       "      <th>label</th>\n",
       "      <th>area</th>\n",
       "      <th>centroid-0</th>\n",
       "      <th>centroid-1</th>\n",
       "      <th>major_axis_length</th>\n",
       "      <th>minor_axis_length</th>\n",
       "      <th>max_intensity</th>\n",
       "      <th>min_intensity</th>\n",
       "      <th>mean_intensity</th>\n",
       "      <th>orientation</th>\n",
       "      <th>perimeter</th>\n",
       "    </tr>\n",
       "  </thead>\n",
       "  <tbody>\n",
       "    <tr>\n",
       "      <th>count</th>\n",
       "      <td>31.000000</td>\n",
       "      <td>31.000000</td>\n",
       "      <td>31.000000</td>\n",
       "      <td>31.000000</td>\n",
       "      <td>31.000000</td>\n",
       "      <td>31.000000</td>\n",
       "      <td>31.000000</td>\n",
       "      <td>31.000000</td>\n",
       "      <td>31.000000</td>\n",
       "      <td>31.000000</td>\n",
       "      <td>31.000000</td>\n",
       "    </tr>\n",
       "    <tr>\n",
       "      <th>mean</th>\n",
       "      <td>1878.645161</td>\n",
       "      <td>17713.290323</td>\n",
       "      <td>591.225806</td>\n",
       "      <td>524.096774</td>\n",
       "      <td>162.609083</td>\n",
       "      <td>95.520215</td>\n",
       "      <td>0.964579</td>\n",
       "      <td>0.017078</td>\n",
       "      <td>0.499883</td>\n",
       "      <td>-0.093176</td>\n",
       "      <td>969.391086</td>\n",
       "    </tr>\n",
       "    <tr>\n",
       "      <th>std</th>\n",
       "      <td>1268.760538</td>\n",
       "      <td>20659.131500</td>\n",
       "      <td>343.882898</td>\n",
       "      <td>367.131979</td>\n",
       "      <td>139.975964</td>\n",
       "      <td>81.105569</td>\n",
       "      <td>0.100035</td>\n",
       "      <td>0.029841</td>\n",
       "      <td>0.099560</td>\n",
       "      <td>1.041356</td>\n",
       "      <td>1068.588055</td>\n",
       "    </tr>\n",
       "    <tr>\n",
       "      <th>min</th>\n",
       "      <td>1.000000</td>\n",
       "      <td>56.000000</td>\n",
       "      <td>22.000000</td>\n",
       "      <td>2.000000</td>\n",
       "      <td>10.190223</td>\n",
       "      <td>7.092109</td>\n",
       "      <td>0.529412</td>\n",
       "      <td>0.000000</td>\n",
       "      <td>0.320261</td>\n",
       "      <td>-1.569815</td>\n",
       "      <td>29.627417</td>\n",
       "    </tr>\n",
       "    <tr>\n",
       "      <th>25%</th>\n",
       "      <td>742.000000</td>\n",
       "      <td>174.500000</td>\n",
       "      <td>266.500000</td>\n",
       "      <td>139.000000</td>\n",
       "      <td>23.879182</td>\n",
       "      <td>14.750254</td>\n",
       "      <td>1.000000</td>\n",
       "      <td>0.000000</td>\n",
       "      <td>0.421202</td>\n",
       "      <td>-0.956535</td>\n",
       "      <td>86.760931</td>\n",
       "    </tr>\n",
       "    <tr>\n",
       "      <th>50%</th>\n",
       "      <td>2103.000000</td>\n",
       "      <td>10285.000000</td>\n",
       "      <td>646.000000</td>\n",
       "      <td>576.000000</td>\n",
       "      <td>178.266816</td>\n",
       "      <td>80.131543</td>\n",
       "      <td>1.000000</td>\n",
       "      <td>0.000000</td>\n",
       "      <td>0.498568</td>\n",
       "      <td>-0.131744</td>\n",
       "      <td>751.299603</td>\n",
       "    </tr>\n",
       "    <tr>\n",
       "      <th>75%</th>\n",
       "      <td>3033.500000</td>\n",
       "      <td>29558.500000</td>\n",
       "      <td>864.000000</td>\n",
       "      <td>884.000000</td>\n",
       "      <td>224.900476</td>\n",
       "      <td>172.788150</td>\n",
       "      <td>1.000000</td>\n",
       "      <td>0.029412</td>\n",
       "      <td>0.544277</td>\n",
       "      <td>0.713341</td>\n",
       "      <td>1268.141882</td>\n",
       "    </tr>\n",
       "    <tr>\n",
       "      <th>max</th>\n",
       "      <td>3631.000000</td>\n",
       "      <td>65965.000000</td>\n",
       "      <td>1020.000000</td>\n",
       "      <td>1016.000000</td>\n",
       "      <td>464.994150</td>\n",
       "      <td>214.204893</td>\n",
       "      <td>1.000000</td>\n",
       "      <td>0.117647</td>\n",
       "      <td>0.722630</td>\n",
       "      <td>1.547205</td>\n",
       "      <td>4012.962225</td>\n",
       "    </tr>\n",
       "  </tbody>\n",
       "</table>\n",
       "</div>"
      ],
      "text/plain": [
       "             label          area   centroid-0   centroid-1  major_axis_length  \\\n",
       "count    31.000000     31.000000    31.000000    31.000000          31.000000   \n",
       "mean   1878.645161  17713.290323   591.225806   524.096774         162.609083   \n",
       "std    1268.760538  20659.131500   343.882898   367.131979         139.975964   \n",
       "min       1.000000     56.000000    22.000000     2.000000          10.190223   \n",
       "25%     742.000000    174.500000   266.500000   139.000000          23.879182   \n",
       "50%    2103.000000  10285.000000   646.000000   576.000000         178.266816   \n",
       "75%    3033.500000  29558.500000   864.000000   884.000000         224.900476   \n",
       "max    3631.000000  65965.000000  1020.000000  1016.000000         464.994150   \n",
       "\n",
       "       minor_axis_length  max_intensity  min_intensity  mean_intensity  \\\n",
       "count          31.000000      31.000000      31.000000       31.000000   \n",
       "mean           95.520215       0.964579       0.017078        0.499883   \n",
       "std            81.105569       0.100035       0.029841        0.099560   \n",
       "min             7.092109       0.529412       0.000000        0.320261   \n",
       "25%            14.750254       1.000000       0.000000        0.421202   \n",
       "50%            80.131543       1.000000       0.000000        0.498568   \n",
       "75%           172.788150       1.000000       0.029412        0.544277   \n",
       "max           214.204893       1.000000       0.117647        0.722630   \n",
       "\n",
       "       orientation    perimeter  \n",
       "count    31.000000    31.000000  \n",
       "mean     -0.093176   969.391086  \n",
       "std       1.041356  1068.588055  \n",
       "min      -1.569815    29.627417  \n",
       "25%      -0.956535    86.760931  \n",
       "50%      -0.131744   751.299603  \n",
       "75%       0.713341  1268.141882  \n",
       "max       1.547205  4012.962225  "
      ]
     },
     "metadata": {},
     "output_type": "display_data"
    },
    {
     "data": {
      "application/vnd.jupyter.widget-view+json": {
       "model_id": "c7cf45c04a904d3a9bd6f95c29d34bfe",
       "version_major": 2,
       "version_minor": 0
      },
      "text/plain": [
       "Canvas(toolbar=Toolbar(toolitems=[('Home', 'Reset original view', 'home', 'home'), ('Back', 'Back to previous …"
      ]
     },
     "metadata": {},
     "output_type": "display_data"
    }
   ],
   "source": [
    "import pandas as pd  # see the prequisite course for more info on Pandas\n",
    "from skimage import color  # used for creating an RGB label image\n",
    "from skimage import measure\n",
    "from skimage import segmentation\n",
    "\n",
    "# create a labelled version of the binary image\n",
    "myLabelledImage = measure.label(myClosedBinary)\n",
    "\n",
    "# use regionprops_table and convert to pd.DataFrame as it's easier to filter\n",
    "measurements = pd.DataFrame(measure.regionprops_table(myLabelledImage,\n",
    "                                                      intensity_image=myNucleiSlice,\n",
    "                                                      properties=('label',  # needed to keep track of which region is which\n",
    "                                                                  'area',  # will use this filter based on size\n",
    "                                                                  'centroid',\n",
    "                                                                  'major_axis_length',\n",
    "                                                                  'minor_axis_length',\n",
    "                                                                  'max_intensity',\n",
    "                                                                  'min_intensity',\n",
    "                                                                  'mean_intensity',\n",
    "                                                                  'orientation',\n",
    "                                                                  'perimeter')))\n",
    "\n",
    "print('Found {0} objects:'.format(measurements.shape[0]))\n",
    "\n",
    "# Display a random 10 rows from the data frame to get an idea of our data\n",
    "display(measurements.sample(10))\n",
    "\n",
    "# Right, let's do some sensible filtering\n",
    "query_string = 'area>=50 & minor_axis_length>0'  # create a query saying we want an area>20 pixels and minor axis>0 (i.e. not a line)\n",
    "filtered_measurements = measurements.query(query_string)  # apply the query\n",
    "\n",
    "print('Filtered to keep {0} objects:'.format(filtered_measurements.shape[0]))\n",
    "display(filtered_measurements.describe())  # show summary statistics of filtered blobs\n",
    "\n",
    "# Let's replot the labels after filtering\n",
    "removed_objects = measurements[~measurements['label'].isin(filtered_measurements['label'])]['label'].dropna().values  # get list of rows removed\n",
    "filteredLabelledImage = myLabelledImage.copy()  # create a copy of the labelled image\n",
    "for ido in removed_objects:  # for each removed row\n",
    "    filteredLabelledImage[filteredLabelledImage==ido] = 0  # set pixels to zero\n",
    "(relabelledClosedBinary, null, null) = segmentation.relabel_sequential(filteredLabelledImage)\n",
    "\n",
    "f, axes = plt.subplots(1,2)\n",
    "(axO, axF) = axes.flatten()\n",
    "\n",
    "axO.imshow(color.label2rgb(myLabelledImage,image=myNucleiSlice))\n",
    "axO.grid(False)\n",
    "axO.set_title('All Objects')\n",
    "\n",
    "axF.imshow(color.label2rgb(relabelledClosedBinary,image=myNucleiSlice))\n",
    "axF.grid(False)\n",
    "axF.set_title('Filtered Objects')\n",
    "\n",
    "plt.show()"
   ]
  },
  {
   "cell_type": "markdown",
   "metadata": {},
   "source": [
    "## Summary\n",
    "\n",
    "* Appreciate the capabilities of `scikit-image` for image processing in a Python environment\n",
    "* Apply known image processing techniques (e.g. smoothing) in a Python environment\n",
    "* Recognise additional image processing techniques (e.g. deconvolution) that are possible in a Python environment\n",
    "* Relate global grayscale thresholding and the logical array to segmentation and binary images\n",
    "* Extract features of objects from segmented images"
   ]
  }
 ],
 "metadata": {
  "kernelspec": {
   "display_name": "Python 3",
   "language": "python",
   "name": "python3"
  },
  "language_info": {
   "codemirror_mode": {
    "name": "ipython",
    "version": 3
   },
   "file_extension": ".py",
   "mimetype": "text/x-python",
   "name": "python",
   "nbconvert_exporter": "python",
   "pygments_lexer": "ipython3",
   "version": "3.7.4"
  },
  "widgets": {
   "application/vnd.jupyter.widget-state+json": {
    "state": {
     "0949e8cdfd5e463daef9e11ce751ab1b": {
      "model_module": "@jupyter-widgets/base",
      "model_module_version": "1.2.0",
      "model_name": "LayoutModel",
      "state": {}
     },
     "0f641c071ebc45a1a18fb13e588e766c": {
      "model_module": "@jupyter-widgets/base",
      "model_module_version": "1.2.0",
      "model_name": "LayoutModel",
      "state": {}
     },
     "1148f7e36f0c49b08cc258496979688f": {
      "model_module": "@jupyter-widgets/base",
      "model_module_version": "1.2.0",
      "model_name": "LayoutModel",
      "state": {}
     },
     "14f0dbc4413b449596f0a563fe15da6c": {
      "model_module": "jupyter-matplotlib",
      "model_module_version": "^0.4.2",
      "model_name": "MPLCanvasModel",
      "state": {
       "layout": "IPY_MODEL_505f37c7c8304a15becd82c114d5dbda",
       "toolbar": "IPY_MODEL_8eddac23269d406b8423d57b492ea9a9",
       "toolbar_position": "left"
      }
     },
     "2840e75d3b25451094ec2977dd34bb20": {
      "model_module": "@jupyter-widgets/base",
      "model_module_version": "1.2.0",
      "model_name": "LayoutModel",
      "state": {}
     },
     "352c5df895654c2b8d4d56e4f5e6edcc": {
      "model_module": "@jupyter-widgets/base",
      "model_module_version": "1.2.0",
      "model_name": "LayoutModel",
      "state": {}
     },
     "3dff470196534f549c227aa160492ad2": {
      "model_module": "@jupyter-widgets/base",
      "model_module_version": "1.2.0",
      "model_name": "LayoutModel",
      "state": {}
     },
     "4f822d25b0614cde96923b13b0de5039": {
      "model_module": "@jupyter-widgets/base",
      "model_module_version": "1.2.0",
      "model_name": "LayoutModel",
      "state": {}
     },
     "505f37c7c8304a15becd82c114d5dbda": {
      "model_module": "@jupyter-widgets/base",
      "model_module_version": "1.2.0",
      "model_name": "LayoutModel",
      "state": {}
     },
     "5074b95b63ce4573b57b6f4ce5265786": {
      "model_module": "jupyter-matplotlib",
      "model_module_version": "^0.4.2",
      "model_name": "MPLCanvasModel",
      "state": {
       "layout": "IPY_MODEL_0f641c071ebc45a1a18fb13e588e766c",
       "toolbar": "IPY_MODEL_edef8a3aae5c4208ae1a8af6bb4a1b9a",
       "toolbar_position": "left"
      }
     },
     "545b75a824d0455eb1ef686e17860aff": {
      "model_module": "jupyter-matplotlib",
      "model_module_version": "^0.4.2",
      "model_name": "MPLCanvasModel",
      "state": {
       "layout": "IPY_MODEL_3dff470196534f549c227aa160492ad2",
       "toolbar": "IPY_MODEL_737ed9fd15ed48249de3a5aa57ea0cc5",
       "toolbar_position": "left"
      }
     },
     "598e4bc14a3c4244b27f882f505af431": {
      "model_module": "jupyter-matplotlib",
      "model_module_version": "^0.4.2",
      "model_name": "MPLCanvasModel",
      "state": {
       "layout": "IPY_MODEL_fc57036d3e9a48a7960f852574e5a3a4",
       "toolbar": "IPY_MODEL_c1041bbc5baf48b393f0351add5d8437",
       "toolbar_position": "left"
      }
     },
     "5f3cc14ee0ed41e29b1a956ba65a3f20": {
      "model_module": "@jupyter-widgets/base",
      "model_module_version": "1.2.0",
      "model_name": "LayoutModel",
      "state": {}
     },
     "61706b49448046818d43a5b16a8c2cb9": {
      "model_module": "@jupyter-widgets/base",
      "model_module_version": "1.2.0",
      "model_name": "LayoutModel",
      "state": {}
     },
     "6a82a5b17da74a5d95146d0827908122": {
      "model_module": "jupyter-matplotlib",
      "model_module_version": "^0.4.2",
      "model_name": "ToolbarModel",
      "state": {
       "layout": "IPY_MODEL_b8e35cee4dcf4074bff6fa25c7214b51",
       "toolitems": [
        [
         "Home",
         "Reset original view",
         "home",
         "home"
        ],
        [
         "Back",
         "Back to previous view",
         "arrow-left",
         "back"
        ],
        [
         "Forward",
         "Forward to next view",
         "arrow-right",
         "forward"
        ],
        [
         "Pan",
         "Pan axes with left mouse, zoom with right",
         "arrows",
         "pan"
        ],
        [
         "Zoom",
         "Zoom to rectangle",
         "square-o",
         "zoom"
        ],
        [
         "Download",
         "Download plot",
         "floppy-o",
         "save_figure"
        ]
       ]
      }
     },
     "720258f526a74e8ab70a2ee147178509": {
      "model_module": "jupyter-matplotlib",
      "model_module_version": "^0.4.2",
      "model_name": "ToolbarModel",
      "state": {
       "layout": "IPY_MODEL_7a20bba1bbad4015aeb43c688c4e88aa",
       "toolitems": [
        [
         "Home",
         "Reset original view",
         "home",
         "home"
        ],
        [
         "Back",
         "Back to previous view",
         "arrow-left",
         "back"
        ],
        [
         "Forward",
         "Forward to next view",
         "arrow-right",
         "forward"
        ],
        [
         "Pan",
         "Pan axes with left mouse, zoom with right",
         "arrows",
         "pan"
        ],
        [
         "Zoom",
         "Zoom to rectangle",
         "square-o",
         "zoom"
        ],
        [
         "Download",
         "Download plot",
         "floppy-o",
         "save_figure"
        ]
       ]
      }
     },
     "737ed9fd15ed48249de3a5aa57ea0cc5": {
      "model_module": "jupyter-matplotlib",
      "model_module_version": "^0.4.2",
      "model_name": "ToolbarModel",
      "state": {
       "layout": "IPY_MODEL_61706b49448046818d43a5b16a8c2cb9",
       "toolitems": [
        [
         "Home",
         "Reset original view",
         "home",
         "home"
        ],
        [
         "Back",
         "Back to previous view",
         "arrow-left",
         "back"
        ],
        [
         "Forward",
         "Forward to next view",
         "arrow-right",
         "forward"
        ],
        [
         "Pan",
         "Pan axes with left mouse, zoom with right",
         "arrows",
         "pan"
        ],
        [
         "Zoom",
         "Zoom to rectangle",
         "square-o",
         "zoom"
        ],
        [
         "Download",
         "Download plot",
         "floppy-o",
         "save_figure"
        ]
       ]
      }
     },
     "740ae16994c74318a8c988d7e530fd01": {
      "model_module": "@jupyter-widgets/base",
      "model_module_version": "1.2.0",
      "model_name": "LayoutModel",
      "state": {}
     },
     "76312fbd92fb4214be697a5eb04439d6": {
      "model_module": "jupyter-matplotlib",
      "model_module_version": "^0.4.2",
      "model_name": "MPLCanvasModel",
      "state": {
       "layout": "IPY_MODEL_f8b15571e7df431a85e2b55b00207f4e",
       "toolbar": "IPY_MODEL_f774687334514578b48e48df2670e0af",
       "toolbar_position": "left"
      }
     },
     "7872e6ca082949e484d483b840266f65": {
      "model_module": "@jupyter-widgets/base",
      "model_module_version": "1.2.0",
      "model_name": "LayoutModel",
      "state": {}
     },
     "7a20bba1bbad4015aeb43c688c4e88aa": {
      "model_module": "@jupyter-widgets/base",
      "model_module_version": "1.2.0",
      "model_name": "LayoutModel",
      "state": {}
     },
     "7b7bf0a1febb4ef4967d6bf2034d28d9": {
      "model_module": "@jupyter-widgets/base",
      "model_module_version": "1.2.0",
      "model_name": "LayoutModel",
      "state": {}
     },
     "8d60a356c9e34dd3be724c4ea39f5a7f": {
      "model_module": "jupyter-matplotlib",
      "model_module_version": "^0.4.2",
      "model_name": "MPLCanvasModel",
      "state": {
       "layout": "IPY_MODEL_4f822d25b0614cde96923b13b0de5039",
       "toolbar": "IPY_MODEL_c276426fc6ec49768b7e1ee169bb4be2",
       "toolbar_position": "left"
      }
     },
     "8eddac23269d406b8423d57b492ea9a9": {
      "model_module": "jupyter-matplotlib",
      "model_module_version": "^0.4.2",
      "model_name": "ToolbarModel",
      "state": {
       "layout": "IPY_MODEL_acdbde535faa460cb0e289431dcf184a",
       "toolitems": [
        [
         "Home",
         "Reset original view",
         "home",
         "home"
        ],
        [
         "Back",
         "Back to previous view",
         "arrow-left",
         "back"
        ],
        [
         "Forward",
         "Forward to next view",
         "arrow-right",
         "forward"
        ],
        [
         "Pan",
         "Pan axes with left mouse, zoom with right",
         "arrows",
         "pan"
        ],
        [
         "Zoom",
         "Zoom to rectangle",
         "square-o",
         "zoom"
        ],
        [
         "Download",
         "Download plot",
         "floppy-o",
         "save_figure"
        ]
       ]
      }
     },
     "9b9ac5decaa542cf8df58e4c371aadfd": {
      "model_module": "jupyter-matplotlib",
      "model_module_version": "^0.4.2",
      "model_name": "MPLCanvasModel",
      "state": {
       "layout": "IPY_MODEL_7b7bf0a1febb4ef4967d6bf2034d28d9",
       "toolbar": "IPY_MODEL_720258f526a74e8ab70a2ee147178509",
       "toolbar_position": "left"
      }
     },
     "9f8bfaf7e0c142b98b7a574faa8b90e6": {
      "model_module": "jupyter-matplotlib",
      "model_module_version": "^0.4.2",
      "model_name": "ToolbarModel",
      "state": {
       "layout": "IPY_MODEL_740ae16994c74318a8c988d7e530fd01",
       "toolitems": [
        [
         "Home",
         "Reset original view",
         "home",
         "home"
        ],
        [
         "Back",
         "Back to previous view",
         "arrow-left",
         "back"
        ],
        [
         "Forward",
         "Forward to next view",
         "arrow-right",
         "forward"
        ],
        [
         "Pan",
         "Pan axes with left mouse, zoom with right",
         "arrows",
         "pan"
        ],
        [
         "Zoom",
         "Zoom to rectangle",
         "square-o",
         "zoom"
        ],
        [
         "Download",
         "Download plot",
         "floppy-o",
         "save_figure"
        ]
       ]
      }
     },
     "a44e2ca27d7f44629db967d003b74ff6": {
      "model_module": "jupyter-matplotlib",
      "model_module_version": "^0.4.2",
      "model_name": "ToolbarModel",
      "state": {
       "layout": "IPY_MODEL_b3443070f0c24a64b9a04e12dfb1e029",
       "toolitems": [
        [
         "Home",
         "Reset original view",
         "home",
         "home"
        ],
        [
         "Back",
         "Back to previous view",
         "arrow-left",
         "back"
        ],
        [
         "Forward",
         "Forward to next view",
         "arrow-right",
         "forward"
        ],
        [
         "Pan",
         "Pan axes with left mouse, zoom with right",
         "arrows",
         "pan"
        ],
        [
         "Zoom",
         "Zoom to rectangle",
         "square-o",
         "zoom"
        ],
        [
         "Download",
         "Download plot",
         "floppy-o",
         "save_figure"
        ]
       ]
      }
     },
     "acdbde535faa460cb0e289431dcf184a": {
      "model_module": "@jupyter-widgets/base",
      "model_module_version": "1.2.0",
      "model_name": "LayoutModel",
      "state": {}
     },
     "b3443070f0c24a64b9a04e12dfb1e029": {
      "model_module": "@jupyter-widgets/base",
      "model_module_version": "1.2.0",
      "model_name": "LayoutModel",
      "state": {}
     },
     "b8e35cee4dcf4074bff6fa25c7214b51": {
      "model_module": "@jupyter-widgets/base",
      "model_module_version": "1.2.0",
      "model_name": "LayoutModel",
      "state": {}
     },
     "c1041bbc5baf48b393f0351add5d8437": {
      "model_module": "jupyter-matplotlib",
      "model_module_version": "^0.4.2",
      "model_name": "ToolbarModel",
      "state": {
       "layout": "IPY_MODEL_2840e75d3b25451094ec2977dd34bb20",
       "toolitems": [
        [
         "Home",
         "Reset original view",
         "home",
         "home"
        ],
        [
         "Back",
         "Back to previous view",
         "arrow-left",
         "back"
        ],
        [
         "Forward",
         "Forward to next view",
         "arrow-right",
         "forward"
        ],
        [
         "Pan",
         "Pan axes with left mouse, zoom with right",
         "arrows",
         "pan"
        ],
        [
         "Zoom",
         "Zoom to rectangle",
         "square-o",
         "zoom"
        ],
        [
         "Download",
         "Download plot",
         "floppy-o",
         "save_figure"
        ]
       ]
      }
     },
     "c276426fc6ec49768b7e1ee169bb4be2": {
      "model_module": "jupyter-matplotlib",
      "model_module_version": "^0.4.2",
      "model_name": "ToolbarModel",
      "state": {
       "layout": "IPY_MODEL_5f3cc14ee0ed41e29b1a956ba65a3f20",
       "toolitems": [
        [
         "Home",
         "Reset original view",
         "home",
         "home"
        ],
        [
         "Back",
         "Back to previous view",
         "arrow-left",
         "back"
        ],
        [
         "Forward",
         "Forward to next view",
         "arrow-right",
         "forward"
        ],
        [
         "Pan",
         "Pan axes with left mouse, zoom with right",
         "arrows",
         "pan"
        ],
        [
         "Zoom",
         "Zoom to rectangle",
         "square-o",
         "zoom"
        ],
        [
         "Download",
         "Download plot",
         "floppy-o",
         "save_figure"
        ]
       ]
      }
     },
     "d31d8761c41c4e699e86ef7e45269f47": {
      "model_module": "jupyter-matplotlib",
      "model_module_version": "^0.4.2",
      "model_name": "MPLCanvasModel",
      "state": {
       "layout": "IPY_MODEL_7872e6ca082949e484d483b840266f65",
       "toolbar": "IPY_MODEL_9f8bfaf7e0c142b98b7a574faa8b90e6",
       "toolbar_position": "left"
      }
     },
     "d350fe9a32d448b9a012738f0b00127c": {
      "model_module": "jupyter-matplotlib",
      "model_module_version": "^0.4.2",
      "model_name": "MPLCanvasModel",
      "state": {
       "layout": "IPY_MODEL_352c5df895654c2b8d4d56e4f5e6edcc",
       "toolbar": "IPY_MODEL_a44e2ca27d7f44629db967d003b74ff6",
       "toolbar_position": "left"
      }
     },
     "da8eb9f34fdc47b4a9822f4294c348c0": {
      "model_module": "@jupyter-widgets/base",
      "model_module_version": "1.2.0",
      "model_name": "LayoutModel",
      "state": {}
     },
     "edef8a3aae5c4208ae1a8af6bb4a1b9a": {
      "model_module": "jupyter-matplotlib",
      "model_module_version": "^0.4.2",
      "model_name": "ToolbarModel",
      "state": {
       "layout": "IPY_MODEL_da8eb9f34fdc47b4a9822f4294c348c0",
       "toolitems": [
        [
         "Home",
         "Reset original view",
         "home",
         "home"
        ],
        [
         "Back",
         "Back to previous view",
         "arrow-left",
         "back"
        ],
        [
         "Forward",
         "Forward to next view",
         "arrow-right",
         "forward"
        ],
        [
         "Pan",
         "Pan axes with left mouse, zoom with right",
         "arrows",
         "pan"
        ],
        [
         "Zoom",
         "Zoom to rectangle",
         "square-o",
         "zoom"
        ],
        [
         "Download",
         "Download plot",
         "floppy-o",
         "save_figure"
        ]
       ]
      }
     },
     "f774687334514578b48e48df2670e0af": {
      "model_module": "jupyter-matplotlib",
      "model_module_version": "^0.4.2",
      "model_name": "ToolbarModel",
      "state": {
       "layout": "IPY_MODEL_0949e8cdfd5e463daef9e11ce751ab1b",
       "toolitems": [
        [
         "Home",
         "Reset original view",
         "home",
         "home"
        ],
        [
         "Back",
         "Back to previous view",
         "arrow-left",
         "back"
        ],
        [
         "Forward",
         "Forward to next view",
         "arrow-right",
         "forward"
        ],
        [
         "Pan",
         "Pan axes with left mouse, zoom with right",
         "arrows",
         "pan"
        ],
        [
         "Zoom",
         "Zoom to rectangle",
         "square-o",
         "zoom"
        ],
        [
         "Download",
         "Download plot",
         "floppy-o",
         "save_figure"
        ]
       ]
      }
     },
     "f8b15571e7df431a85e2b55b00207f4e": {
      "model_module": "@jupyter-widgets/base",
      "model_module_version": "1.2.0",
      "model_name": "LayoutModel",
      "state": {}
     },
     "fb0a18dfd68046b8812fd5e22c536fe1": {
      "model_module": "jupyter-matplotlib",
      "model_module_version": "^0.4.2",
      "model_name": "MPLCanvasModel",
      "state": {
       "layout": "IPY_MODEL_1148f7e36f0c49b08cc258496979688f",
       "toolbar": "IPY_MODEL_6a82a5b17da74a5d95146d0827908122",
       "toolbar_position": "left"
      }
     },
     "fc57036d3e9a48a7960f852574e5a3a4": {
      "model_module": "@jupyter-widgets/base",
      "model_module_version": "1.2.0",
      "model_name": "LayoutModel",
      "state": {}
     }
    },
    "version_major": 2,
    "version_minor": 0
   }
  }
 },
 "nbformat": 4,
 "nbformat_minor": 4
}
